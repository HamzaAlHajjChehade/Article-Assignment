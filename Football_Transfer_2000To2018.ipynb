{
 "cells": [
  {
   "cell_type": "code",
   "execution_count": 1,
   "id": "c4a8a0b7",
   "metadata": {},
   "outputs": [],
   "source": [
    "#Importing the Libraries:\n",
    "import numpy as np\n",
    "import pandas as pd\n",
    "import matplotlib.pyplot as plt\n",
    "import seaborn as sns"
   ]
  },
  {
   "cell_type": "code",
   "execution_count": 2,
   "id": "85c71478",
   "metadata": {},
   "outputs": [],
   "source": [
    "#Importing the Dataset:\n",
    "data=pd.read_csv('C:/Users/mizoh/Desktop/Data Glacier/Article Assignment/top250-00-19.csv')"
   ]
  },
  {
   "cell_type": "markdown",
   "id": "2b6b8dc6",
   "metadata": {},
   "source": [
    "DATA EXPLORATION"
   ]
  },
  {
   "cell_type": "code",
   "execution_count": 3,
   "id": "29386c56",
   "metadata": {},
   "outputs": [
    {
     "data": {
      "text/html": [
       "<div>\n",
       "<style scoped>\n",
       "    .dataframe tbody tr th:only-of-type {\n",
       "        vertical-align: middle;\n",
       "    }\n",
       "\n",
       "    .dataframe tbody tr th {\n",
       "        vertical-align: top;\n",
       "    }\n",
       "\n",
       "    .dataframe thead th {\n",
       "        text-align: right;\n",
       "    }\n",
       "</style>\n",
       "<table border=\"1\" class=\"dataframe\">\n",
       "  <thead>\n",
       "    <tr style=\"text-align: right;\">\n",
       "      <th></th>\n",
       "      <th>Name</th>\n",
       "      <th>Position</th>\n",
       "      <th>Age</th>\n",
       "      <th>Team from</th>\n",
       "      <th>League from</th>\n",
       "      <th>Team to</th>\n",
       "      <th>League to</th>\n",
       "      <th>Season</th>\n",
       "      <th>Market value</th>\n",
       "      <th>Transfer fee</th>\n",
       "    </tr>\n",
       "  </thead>\n",
       "  <tbody>\n",
       "    <tr>\n",
       "      <th>0</th>\n",
       "      <td>Luís Figo</td>\n",
       "      <td>Right Winger</td>\n",
       "      <td>27</td>\n",
       "      <td>FC Barcelona</td>\n",
       "      <td>LaLiga</td>\n",
       "      <td>Real Madrid</td>\n",
       "      <td>LaLiga</td>\n",
       "      <td>2000-2001</td>\n",
       "      <td>NaN</td>\n",
       "      <td>60000000</td>\n",
       "    </tr>\n",
       "    <tr>\n",
       "      <th>1</th>\n",
       "      <td>Hernán Crespo</td>\n",
       "      <td>Centre-Forward</td>\n",
       "      <td>25</td>\n",
       "      <td>Parma</td>\n",
       "      <td>Serie A</td>\n",
       "      <td>Lazio</td>\n",
       "      <td>Serie A</td>\n",
       "      <td>2000-2001</td>\n",
       "      <td>NaN</td>\n",
       "      <td>56810000</td>\n",
       "    </tr>\n",
       "    <tr>\n",
       "      <th>2</th>\n",
       "      <td>Marc Overmars</td>\n",
       "      <td>Left Winger</td>\n",
       "      <td>27</td>\n",
       "      <td>Arsenal</td>\n",
       "      <td>Premier League</td>\n",
       "      <td>FC Barcelona</td>\n",
       "      <td>LaLiga</td>\n",
       "      <td>2000-2001</td>\n",
       "      <td>NaN</td>\n",
       "      <td>40000000</td>\n",
       "    </tr>\n",
       "    <tr>\n",
       "      <th>3</th>\n",
       "      <td>Gabriel Batistuta</td>\n",
       "      <td>Centre-Forward</td>\n",
       "      <td>31</td>\n",
       "      <td>Fiorentina</td>\n",
       "      <td>Serie A</td>\n",
       "      <td>AS Roma</td>\n",
       "      <td>Serie A</td>\n",
       "      <td>2000-2001</td>\n",
       "      <td>NaN</td>\n",
       "      <td>36150000</td>\n",
       "    </tr>\n",
       "    <tr>\n",
       "      <th>4</th>\n",
       "      <td>Nicolas Anelka</td>\n",
       "      <td>Centre-Forward</td>\n",
       "      <td>21</td>\n",
       "      <td>Real Madrid</td>\n",
       "      <td>LaLiga</td>\n",
       "      <td>Paris SG</td>\n",
       "      <td>Ligue 1</td>\n",
       "      <td>2000-2001</td>\n",
       "      <td>NaN</td>\n",
       "      <td>34500000</td>\n",
       "    </tr>\n",
       "  </tbody>\n",
       "</table>\n",
       "</div>"
      ],
      "text/plain": [
       "                Name        Position  Age     Team from     League from  \\\n",
       "0          Luís Figo    Right Winger   27  FC Barcelona          LaLiga   \n",
       "1      Hernán Crespo  Centre-Forward   25         Parma         Serie A   \n",
       "2      Marc Overmars     Left Winger   27       Arsenal  Premier League   \n",
       "3  Gabriel Batistuta  Centre-Forward   31    Fiorentina         Serie A   \n",
       "4     Nicolas Anelka  Centre-Forward   21   Real Madrid          LaLiga   \n",
       "\n",
       "        Team to League to     Season  Market value  Transfer fee  \n",
       "0   Real Madrid    LaLiga  2000-2001           NaN      60000000  \n",
       "1         Lazio   Serie A  2000-2001           NaN      56810000  \n",
       "2  FC Barcelona    LaLiga  2000-2001           NaN      40000000  \n",
       "3       AS Roma   Serie A  2000-2001           NaN      36150000  \n",
       "4      Paris SG   Ligue 1  2000-2001           NaN      34500000  "
      ]
     },
     "execution_count": 3,
     "metadata": {},
     "output_type": "execute_result"
    }
   ],
   "source": [
    "data.head()"
   ]
  },
  {
   "cell_type": "code",
   "execution_count": 4,
   "id": "193c3874",
   "metadata": {},
   "outputs": [
    {
     "data": {
      "text/plain": [
       "(4700, 10)"
      ]
     },
     "execution_count": 4,
     "metadata": {},
     "output_type": "execute_result"
    }
   ],
   "source": [
    "data.shape"
   ]
  },
  {
   "cell_type": "code",
   "execution_count": 5,
   "id": "8fca3494",
   "metadata": {},
   "outputs": [
    {
     "name": "stdout",
     "output_type": "stream",
     "text": [
      "<class 'pandas.core.frame.DataFrame'>\n",
      "RangeIndex: 4700 entries, 0 to 4699\n",
      "Data columns (total 10 columns):\n",
      " #   Column        Non-Null Count  Dtype  \n",
      "---  ------        --------------  -----  \n",
      " 0   Name          4700 non-null   object \n",
      " 1   Position      4700 non-null   object \n",
      " 2   Age           4700 non-null   int64  \n",
      " 3   Team from     4700 non-null   object \n",
      " 4   League from   4700 non-null   object \n",
      " 5   Team to       4700 non-null   object \n",
      " 6   League to     4700 non-null   object \n",
      " 7   Season        4700 non-null   object \n",
      " 8   Market value  3440 non-null   float64\n",
      " 9   Transfer fee  4700 non-null   int64  \n",
      "dtypes: float64(1), int64(2), object(7)\n",
      "memory usage: 367.3+ KB\n"
     ]
    }
   ],
   "source": [
    "data.info()"
   ]
  },
  {
   "cell_type": "code",
   "execution_count": 6,
   "id": "56c40ccd",
   "metadata": {},
   "outputs": [
    {
     "data": {
      "text/plain": [
       "Name               0\n",
       "Position           0\n",
       "Age                0\n",
       "Team from          0\n",
       "League from        0\n",
       "Team to            0\n",
       "League to          0\n",
       "Season             0\n",
       "Market value    1260\n",
       "Transfer fee       0\n",
       "dtype: int64"
      ]
     },
     "execution_count": 6,
     "metadata": {},
     "output_type": "execute_result"
    }
   ],
   "source": [
    "data.isnull().sum()"
   ]
  },
  {
   "cell_type": "code",
   "execution_count": 7,
   "id": "f0909471",
   "metadata": {},
   "outputs": [
    {
     "data": {
      "text/html": [
       "<div>\n",
       "<style scoped>\n",
       "    .dataframe tbody tr th:only-of-type {\n",
       "        vertical-align: middle;\n",
       "    }\n",
       "\n",
       "    .dataframe tbody tr th {\n",
       "        vertical-align: top;\n",
       "    }\n",
       "\n",
       "    .dataframe thead th {\n",
       "        text-align: right;\n",
       "    }\n",
       "</style>\n",
       "<table border=\"1\" class=\"dataframe\">\n",
       "  <thead>\n",
       "    <tr style=\"text-align: right;\">\n",
       "      <th></th>\n",
       "      <th>Age</th>\n",
       "      <th>Market value</th>\n",
       "      <th>Transfer fee</th>\n",
       "    </tr>\n",
       "  </thead>\n",
       "  <tbody>\n",
       "    <tr>\n",
       "      <th>count</th>\n",
       "      <td>4700.000000</td>\n",
       "      <td>3.440000e+03</td>\n",
       "      <td>4.700000e+03</td>\n",
       "    </tr>\n",
       "    <tr>\n",
       "      <th>mean</th>\n",
       "      <td>24.338723</td>\n",
       "      <td>8.622469e+06</td>\n",
       "      <td>9.447586e+06</td>\n",
       "    </tr>\n",
       "    <tr>\n",
       "      <th>std</th>\n",
       "      <td>3.230809</td>\n",
       "      <td>8.795181e+06</td>\n",
       "      <td>1.043772e+07</td>\n",
       "    </tr>\n",
       "    <tr>\n",
       "      <th>min</th>\n",
       "      <td>0.000000</td>\n",
       "      <td>5.000000e+04</td>\n",
       "      <td>8.250000e+05</td>\n",
       "    </tr>\n",
       "    <tr>\n",
       "      <th>25%</th>\n",
       "      <td>22.000000</td>\n",
       "      <td>3.500000e+06</td>\n",
       "      <td>4.000000e+06</td>\n",
       "    </tr>\n",
       "    <tr>\n",
       "      <th>50%</th>\n",
       "      <td>24.000000</td>\n",
       "      <td>6.000000e+06</td>\n",
       "      <td>6.500000e+06</td>\n",
       "    </tr>\n",
       "    <tr>\n",
       "      <th>75%</th>\n",
       "      <td>27.000000</td>\n",
       "      <td>1.000000e+07</td>\n",
       "      <td>1.082000e+07</td>\n",
       "    </tr>\n",
       "    <tr>\n",
       "      <th>max</th>\n",
       "      <td>35.000000</td>\n",
       "      <td>1.200000e+08</td>\n",
       "      <td>2.220000e+08</td>\n",
       "    </tr>\n",
       "  </tbody>\n",
       "</table>\n",
       "</div>"
      ],
      "text/plain": [
       "               Age  Market value  Transfer fee\n",
       "count  4700.000000  3.440000e+03  4.700000e+03\n",
       "mean     24.338723  8.622469e+06  9.447586e+06\n",
       "std       3.230809  8.795181e+06  1.043772e+07\n",
       "min       0.000000  5.000000e+04  8.250000e+05\n",
       "25%      22.000000  3.500000e+06  4.000000e+06\n",
       "50%      24.000000  6.000000e+06  6.500000e+06\n",
       "75%      27.000000  1.000000e+07  1.082000e+07\n",
       "max      35.000000  1.200000e+08  2.220000e+08"
      ]
     },
     "execution_count": 7,
     "metadata": {},
     "output_type": "execute_result"
    }
   ],
   "source": [
    "data.describe()"
   ]
  },
  {
   "cell_type": "code",
   "execution_count": 8,
   "id": "1c75dbbc",
   "metadata": {},
   "outputs": [],
   "source": [
    "# The minimum Market Value is 50 000 while the maximum Market Value is 120 000 000\n",
    "# The minimum Transfer fee is 8 250 000 while the maximum Transfer fee is 220 000 000"
   ]
  },
  {
   "cell_type": "code",
   "execution_count": 9,
   "id": "559a432a",
   "metadata": {},
   "outputs": [
    {
     "data": {
      "text/html": [
       "<div>\n",
       "<style scoped>\n",
       "    .dataframe tbody tr th:only-of-type {\n",
       "        vertical-align: middle;\n",
       "    }\n",
       "\n",
       "    .dataframe tbody tr th {\n",
       "        vertical-align: top;\n",
       "    }\n",
       "\n",
       "    .dataframe thead th {\n",
       "        text-align: right;\n",
       "    }\n",
       "</style>\n",
       "<table border=\"1\" class=\"dataframe\">\n",
       "  <thead>\n",
       "    <tr style=\"text-align: right;\">\n",
       "      <th></th>\n",
       "      <th>Age</th>\n",
       "      <th>Market value</th>\n",
       "      <th>Transfer fee</th>\n",
       "    </tr>\n",
       "  </thead>\n",
       "  <tbody>\n",
       "    <tr>\n",
       "      <th>Age</th>\n",
       "      <td>1.000000</td>\n",
       "      <td>0.142739</td>\n",
       "      <td>-0.001803</td>\n",
       "    </tr>\n",
       "    <tr>\n",
       "      <th>Market value</th>\n",
       "      <td>0.142739</td>\n",
       "      <td>1.000000</td>\n",
       "      <td>0.830573</td>\n",
       "    </tr>\n",
       "    <tr>\n",
       "      <th>Transfer fee</th>\n",
       "      <td>-0.001803</td>\n",
       "      <td>0.830573</td>\n",
       "      <td>1.000000</td>\n",
       "    </tr>\n",
       "  </tbody>\n",
       "</table>\n",
       "</div>"
      ],
      "text/plain": [
       "                   Age  Market value  Transfer fee\n",
       "Age           1.000000      0.142739     -0.001803\n",
       "Market value  0.142739      1.000000      0.830573\n",
       "Transfer fee -0.001803      0.830573      1.000000"
      ]
     },
     "execution_count": 9,
     "metadata": {},
     "output_type": "execute_result"
    }
   ],
   "source": [
    "data.corr()"
   ]
  },
  {
   "cell_type": "code",
   "execution_count": 10,
   "id": "eaab88ed",
   "metadata": {},
   "outputs": [],
   "source": [
    "# Transfer fee and Market Value are positively highly correlated where the correlation coefficient is 0.830573 near to 1."
   ]
  },
  {
   "cell_type": "markdown",
   "id": "407c6ec8",
   "metadata": {},
   "source": [
    "DATA MANIPULATION"
   ]
  },
  {
   "cell_type": "code",
   "execution_count": 11,
   "id": "d28e7c70",
   "metadata": {},
   "outputs": [],
   "source": [
    "Defender=['Centre-Back','Right-Back','Left-Back','Defender']\n",
    "Forward = ['Right Winger','Centre-Forward','Left Winger','Forward','Sweeper','Second Striker']\n",
    "Midfielder = ['Central Midfield', 'Attacking Midfield', 'Defensive Midfield', 'Left Midfield','Right Midfield', 'Midfielder']\n",
    "conditions = [\n",
    "    data['Position'].isin(Defender),\n",
    "    data['Position'].isin(Forward),\n",
    "    data['Position'].isin(Midfielder),\n",
    "    data['Position']=='Goalkeeper']\n",
    " \n",
    "values = ['Defender', 'Forward','Midfielder','Goalkeeper']\n",
    "\n",
    "data['Position'] = np.select(conditions, values)"
   ]
  },
  {
   "cell_type": "code",
   "execution_count": 12,
   "id": "1394d9cd",
   "metadata": {},
   "outputs": [
    {
     "data": {
      "text/html": [
       "<div>\n",
       "<style scoped>\n",
       "    .dataframe tbody tr th:only-of-type {\n",
       "        vertical-align: middle;\n",
       "    }\n",
       "\n",
       "    .dataframe tbody tr th {\n",
       "        vertical-align: top;\n",
       "    }\n",
       "\n",
       "    .dataframe thead th {\n",
       "        text-align: right;\n",
       "    }\n",
       "</style>\n",
       "<table border=\"1\" class=\"dataframe\">\n",
       "  <thead>\n",
       "    <tr style=\"text-align: right;\">\n",
       "      <th></th>\n",
       "      <th>Name</th>\n",
       "      <th>Position</th>\n",
       "      <th>Age</th>\n",
       "      <th>Team from</th>\n",
       "      <th>League from</th>\n",
       "      <th>Team to</th>\n",
       "      <th>League to</th>\n",
       "      <th>Season</th>\n",
       "      <th>Market value</th>\n",
       "      <th>Transfer fee</th>\n",
       "    </tr>\n",
       "  </thead>\n",
       "  <tbody>\n",
       "    <tr>\n",
       "      <th>0</th>\n",
       "      <td>Luís Figo</td>\n",
       "      <td>Forward</td>\n",
       "      <td>27</td>\n",
       "      <td>FC Barcelona</td>\n",
       "      <td>LaLiga</td>\n",
       "      <td>Real Madrid</td>\n",
       "      <td>LaLiga</td>\n",
       "      <td>2000-2001</td>\n",
       "      <td>NaN</td>\n",
       "      <td>60000000</td>\n",
       "    </tr>\n",
       "    <tr>\n",
       "      <th>1</th>\n",
       "      <td>Hernán Crespo</td>\n",
       "      <td>Forward</td>\n",
       "      <td>25</td>\n",
       "      <td>Parma</td>\n",
       "      <td>Serie A</td>\n",
       "      <td>Lazio</td>\n",
       "      <td>Serie A</td>\n",
       "      <td>2000-2001</td>\n",
       "      <td>NaN</td>\n",
       "      <td>56810000</td>\n",
       "    </tr>\n",
       "    <tr>\n",
       "      <th>2</th>\n",
       "      <td>Marc Overmars</td>\n",
       "      <td>Forward</td>\n",
       "      <td>27</td>\n",
       "      <td>Arsenal</td>\n",
       "      <td>Premier League</td>\n",
       "      <td>FC Barcelona</td>\n",
       "      <td>LaLiga</td>\n",
       "      <td>2000-2001</td>\n",
       "      <td>NaN</td>\n",
       "      <td>40000000</td>\n",
       "    </tr>\n",
       "    <tr>\n",
       "      <th>3</th>\n",
       "      <td>Gabriel Batistuta</td>\n",
       "      <td>Forward</td>\n",
       "      <td>31</td>\n",
       "      <td>Fiorentina</td>\n",
       "      <td>Serie A</td>\n",
       "      <td>AS Roma</td>\n",
       "      <td>Serie A</td>\n",
       "      <td>2000-2001</td>\n",
       "      <td>NaN</td>\n",
       "      <td>36150000</td>\n",
       "    </tr>\n",
       "    <tr>\n",
       "      <th>4</th>\n",
       "      <td>Nicolas Anelka</td>\n",
       "      <td>Forward</td>\n",
       "      <td>21</td>\n",
       "      <td>Real Madrid</td>\n",
       "      <td>LaLiga</td>\n",
       "      <td>Paris SG</td>\n",
       "      <td>Ligue 1</td>\n",
       "      <td>2000-2001</td>\n",
       "      <td>NaN</td>\n",
       "      <td>34500000</td>\n",
       "    </tr>\n",
       "  </tbody>\n",
       "</table>\n",
       "</div>"
      ],
      "text/plain": [
       "                Name Position  Age     Team from     League from  \\\n",
       "0          Luís Figo  Forward   27  FC Barcelona          LaLiga   \n",
       "1      Hernán Crespo  Forward   25         Parma         Serie A   \n",
       "2      Marc Overmars  Forward   27       Arsenal  Premier League   \n",
       "3  Gabriel Batistuta  Forward   31    Fiorentina         Serie A   \n",
       "4     Nicolas Anelka  Forward   21   Real Madrid          LaLiga   \n",
       "\n",
       "        Team to League to     Season  Market value  Transfer fee  \n",
       "0   Real Madrid    LaLiga  2000-2001           NaN      60000000  \n",
       "1         Lazio   Serie A  2000-2001           NaN      56810000  \n",
       "2  FC Barcelona    LaLiga  2000-2001           NaN      40000000  \n",
       "3       AS Roma   Serie A  2000-2001           NaN      36150000  \n",
       "4      Paris SG   Ligue 1  2000-2001           NaN      34500000  "
      ]
     },
     "execution_count": 12,
     "metadata": {},
     "output_type": "execute_result"
    }
   ],
   "source": [
    "data.head()"
   ]
  },
  {
   "cell_type": "code",
   "execution_count": 13,
   "id": "fc45bb4b",
   "metadata": {},
   "outputs": [],
   "source": [
    "for col in data.columns:\n",
    "    if ' ' in col:\n",
    "        data=data.rename(columns={col:col.replace(' ','_')})"
   ]
  },
  {
   "cell_type": "code",
   "execution_count": 14,
   "id": "7095973c",
   "metadata": {},
   "outputs": [
    {
     "data": {
      "text/plain": [
       "Index(['Name', 'Position', 'Age', 'Team_from', 'League_from', 'Team_to',\n",
       "       'League_to', 'Season', 'Market_value', 'Transfer_fee'],\n",
       "      dtype='object')"
      ]
     },
     "execution_count": 14,
     "metadata": {},
     "output_type": "execute_result"
    }
   ],
   "source": [
    "data.columns"
   ]
  },
  {
   "cell_type": "code",
   "execution_count": 15,
   "id": "050962b9",
   "metadata": {},
   "outputs": [],
   "source": [
    "top5_leagues = ['Premier League', 'Serie A', 'LaLiga', 'Ligue 1', '1.Bundesliga']\n",
    "data_top5_leagues = data.loc[ (data['League_to'].isin(top5_leagues))]"
   ]
  },
  {
   "cell_type": "code",
   "execution_count": 16,
   "id": "777ea23a",
   "metadata": {},
   "outputs": [],
   "source": [
    "# The data_top5_leagues includes only players that went to the 5 top leagues('Premier League','La Liga','Serie A','Ligue 1',\n",
    "# '1.Bundesliga')"
   ]
  },
  {
   "cell_type": "markdown",
   "id": "96043df1",
   "metadata": {},
   "source": [
    "EXPLORATORY DATA ANALYSIS "
   ]
  },
  {
   "cell_type": "code",
   "execution_count": 17,
   "id": "32208525",
   "metadata": {},
   "outputs": [],
   "source": [
    "#The Most Preffered Position in the top 5 leagues:"
   ]
  },
  {
   "cell_type": "code",
   "execution_count": 18,
   "id": "5f1eca31",
   "metadata": {},
   "outputs": [
    {
     "data": {
      "text/plain": [
       "Forward       1292\n",
       "Midfielder    1030\n",
       "Defender       868\n",
       "Goalkeeper     149\n",
       "Name: Position, dtype: int64"
      ]
     },
     "execution_count": 18,
     "metadata": {},
     "output_type": "execute_result"
    }
   ],
   "source": [
    "data_top5_leagues['Position'].value_counts()"
   ]
  },
  {
   "cell_type": "code",
   "execution_count": 19,
   "id": "1840dab6",
   "metadata": {},
   "outputs": [
    {
     "data": {
      "image/png": "[encoded data removed]",
      "text/plain": [
       "<Figure size 432x288 with 1 Axes>"
      ]
     },
     "metadata": {
      "needs_background": "light"
     },
     "output_type": "display_data"
    }
   ],
   "source": [
    "sns.countplot(x='Position',data=data_top5_leagues,order=data_top5_leagues['Position'].value_counts().index)\n",
    "plt.title('The Most Preffered Position in the top 5 Leagues')\n",
    "plt.show()"
   ]
  },
  {
   "cell_type": "code",
   "execution_count": 20,
   "id": "a58372b6",
   "metadata": {},
   "outputs": [
    {
     "data": {
      "image/png": "[encoded data removed]",
      "text/plain": [
       "<Figure size 720x504 with 1 Axes>"
      ]
     },
     "metadata": {},
     "output_type": "display_data"
    }
   ],
   "source": [
    "player_position=data_top5_leagues.groupby('Position').Position.count()\n",
    "labs=player_position.index\n",
    "vals=player_position.values\n",
    "fig,axp=plt.subplots(figsize=(10,7))\n",
    "axp.pie(vals,labels=labs,autopct='%1.1f%%',shadow=True,startangle=90)\n",
    "axp.axis('equal')\n",
    "plt.title('The Most Preffered Position in the top 5 Leagues')\n",
    "plt.show()"
   ]
  },
  {
   "cell_type": "code",
   "execution_count": 21,
   "id": "ea59524c",
   "metadata": {},
   "outputs": [],
   "source": [
    "#The Most Requested or Preffered Position in the top 5 Leagues in Percentages."
   ]
  },
  {
   "cell_type": "code",
   "execution_count": 134,
   "id": "caeb3983",
   "metadata": {},
   "outputs": [],
   "source": [
    "#From the above two graphs(histogram and piechart) we can notice that the Forward position is the most requested compared to the\n",
    "# other positions in the top 5 Leagues."
   ]
  },
  {
   "cell_type": "code",
   "execution_count": 23,
   "id": "fc5c4038",
   "metadata": {},
   "outputs": [
    {
     "data": {
      "text/plain": [
       "League_to       Position  \n",
       "1.Bundesliga    Defender      118\n",
       "                Forward       166\n",
       "                Goalkeeper      6\n",
       "                Midfielder    132\n",
       "LaLiga          Defender      133\n",
       "                Forward       206\n",
       "                Goalkeeper     29\n",
       "                Midfielder    157\n",
       "Ligue 1         Defender       85\n",
       "                Forward       171\n",
       "                Goalkeeper      9\n",
       "                Midfielder    132\n",
       "Premier League  Defender      333\n",
       "                Forward       459\n",
       "                Goalkeeper     67\n",
       "                Midfielder    397\n",
       "Serie A         Defender      199\n",
       "                Forward       290\n",
       "                Goalkeeper     38\n",
       "                Midfielder    212\n",
       "Name: League_to, dtype: int64"
      ]
     },
     "execution_count": 23,
     "metadata": {},
     "output_type": "execute_result"
    }
   ],
   "source": [
    "player_League_to=data_top5_leagues.groupby(['League_to','Position']).League_to.count()\n",
    "player_League_to"
   ]
  },
  {
   "cell_type": "code",
   "execution_count": 24,
   "id": "9fedd2ca",
   "metadata": {},
   "outputs": [
    {
     "data": {
      "image/png": "[encoded data removed]",
      "text/plain": [
       "<Figure size 1440x360 with 1 Axes>"
      ]
     },
     "metadata": {
      "needs_background": "light"
     },
     "output_type": "display_data"
    }
   ],
   "source": [
    "from matplotlib.pyplot import figure\n",
    "figure(figsize=(20, 5))\n",
    "sns.countplot(x='Position',data=data_top5_leagues,\n",
    "              order=data_top5_leagues['Position'].value_counts().index,\n",
    "              hue='League_to')\n",
    "plt.title('The Most Preffered Position in the top 5 Leagues',fontsize=15,style='oblique')\n",
    "plt.legend(title='League')\n",
    "plt.show()"
   ]
  },
  {
   "cell_type": "code",
   "execution_count": 25,
   "id": "01184dbf",
   "metadata": {},
   "outputs": [],
   "source": [
    "# From this graph we can notice that the Premier League is most prefferable league for all the players for different positions\n",
    "# between the years 2000 and 2018.\n",
    "# The league that follows the Premier league is the Seria A"
   ]
  },
  {
   "cell_type": "markdown",
   "id": "fa2533b1",
   "metadata": {},
   "source": [
    "HOW MANY TRANSFERS ARE MADE EACH SEASON ?"
   ]
  },
  {
   "cell_type": "code",
   "execution_count": 26,
   "id": "8e7b291d",
   "metadata": {},
   "outputs": [
    {
     "data": {
      "text/plain": [
       "Season\n",
       "2000-2001    176\n",
       "2001-2002    194\n",
       "2002-2003    157\n",
       "2003-2004    142\n",
       "2004-2005    162\n",
       "2005-2006    168\n",
       "2006-2007    187\n",
       "2007-2008    203\n",
       "2008-2009    190\n",
       "2009-2010    175\n",
       "2010-2011    151\n",
       "2011-2012    171\n",
       "2012-2013    167\n",
       "2013-2014    159\n",
       "2014-2015    167\n",
       "2015-2016    187\n",
       "2016-2017    182\n",
       "2017-2018    209\n",
       "2018-2019    192\n",
       "Name: Season, dtype: int64"
      ]
     },
     "execution_count": 26,
     "metadata": {},
     "output_type": "execute_result"
    }
   ],
   "source": [
    "data_top5_leagues.groupby('Season').Season.count()"
   ]
  },
  {
   "cell_type": "code",
   "execution_count": 27,
   "id": "173642d9",
   "metadata": {},
   "outputs": [
    {
     "data": {
      "image/png": "[encoded data removed]",
      "text/plain": [
       "<Figure size 432x288 with 1 Axes>"
      ]
     },
     "metadata": {
      "needs_background": "light"
     },
     "output_type": "display_data"
    }
   ],
   "source": [
    "sns.countplot(x='Season', data=data_top5_leagues,order=data_top5_leagues.groupby('Season').Season.count().index)\n",
    "plt.xticks(rotation=90)\n",
    "plt.title('The Number of Transfers in each Season',style='italic',fontsize=15)\n",
    "plt.show()"
   ]
  },
  {
   "cell_type": "code",
   "execution_count": 28,
   "id": "f1f3e736",
   "metadata": {},
   "outputs": [],
   "source": [
    "# We can notice that the Season 2017-2018 contains the highest number of Transfers 209."
   ]
  },
  {
   "cell_type": "code",
   "execution_count": 29,
   "id": "f555f01b",
   "metadata": {},
   "outputs": [
    {
     "data": {
      "text/plain": [
       "League_to     Season   \n",
       "1.Bundesliga  2000-2001    17\n",
       "              2001-2002    26\n",
       "              2002-2003    31\n",
       "              2003-2004    14\n",
       "              2004-2005    17\n",
       "                           ..\n",
       "Serie A       2014-2015    31\n",
       "              2015-2016    31\n",
       "              2016-2017    35\n",
       "              2017-2018    36\n",
       "              2018-2019    58\n",
       "Name: League_to, Length: 95, dtype: int64"
      ]
     },
     "execution_count": 29,
     "metadata": {},
     "output_type": "execute_result"
    }
   ],
   "source": [
    "data_top5_leagues.groupby(['League_to','Season']).League_to.count()"
   ]
  },
  {
   "cell_type": "code",
   "execution_count": 30,
   "id": "3ab81aef",
   "metadata": {},
   "outputs": [
    {
     "data": {
      "image/png": "[encoded data removed]",
      "text/plain": [
       "<Figure size 2160x504 with 1 Axes>"
      ]
     },
     "metadata": {
      "needs_background": "light"
     },
     "output_type": "display_data"
    }
   ],
   "source": [
    "from matplotlib.pyplot import figure\n",
    "figure(figsize=(30, 7))\n",
    "sns.countplot(x='Season', data=data_top5_leagues,\n",
    "             hue='League_to')\n",
    "plt.xticks(rotation=90)\n",
    "plt.title('The Number of Transfers in each Season for each League',style='italic',fontsize=30)\n",
    "plt.legend(title='League')\n",
    "plt.show()"
   ]
  },
  {
   "cell_type": "code",
   "execution_count": 135,
   "id": "25e40f49",
   "metadata": {},
   "outputs": [],
   "source": [
    "# we can notice that Premier League has the most number of transfers in each Season compared to other Leagues except\n",
    "# in the season 2018-2019 in which Seria A surpass the other Leagues especially the Premier League"
   ]
  },
  {
   "cell_type": "markdown",
   "id": "6e2eebbf",
   "metadata": {},
   "source": [
    "WHICH LEAGUE PAYS THE MOST MONEY IN THE TRANSFER MARKET?"
   ]
  },
  {
   "cell_type": "code",
   "execution_count": 32,
   "id": "02391b91",
   "metadata": {},
   "outputs": [
    {
     "data": {
      "text/plain": [
       "League_to\n",
       "Premier League    14695400000\n",
       "Serie A            7535220000\n",
       "LaLiga             6680360000\n",
       "Ligue 1            3682720000\n",
       "1.Bundesliga       3599645000\n",
       "Name: Transfer_fee, dtype: int64"
      ]
     },
     "execution_count": 32,
     "metadata": {},
     "output_type": "execute_result"
    }
   ],
   "source": [
    "League_buy=data_top5_leagues.groupby('League_to').Transfer_fee.sum().sort_values(ascending=False)\n",
    "League_buy"
   ]
  },
  {
   "cell_type": "code",
   "execution_count": 33,
   "id": "96c18360",
   "metadata": {},
   "outputs": [
    {
     "data": {
      "image/png": "[encoded data removed]",
      "text/plain": [
       "<Figure size 432x288 with 1 Axes>"
      ]
     },
     "metadata": {
      "needs_background": "light"
     },
     "output_type": "display_data"
    }
   ],
   "source": [
    "League_buy.plot(kind='bar',lw=1,edgecolor='blue',width=0.6)\n",
    "plt.xticks(rotation=0)\n",
    "plt.xlabel('League',fontsize=10)\n",
    "yticks = list(np.arange(0,18000000000,2000000000))\n",
    "plt.yticks(ticks=yticks, labels =[f\"{round(int(y)/1000000000)} Billion $ \" if y > 0 else \"0\" for y in yticks] )\n",
    "plt.title('The Money Paid for every League in the Transfer Market',fontsize=10,style='oblique')\n",
    "plt.show()"
   ]
  },
  {
   "cell_type": "code",
   "execution_count": 136,
   "id": "56fc4c54",
   "metadata": {},
   "outputs": [],
   "source": [
    "# From here we can notice that the Premier League is the league which pays the most money in the transfer market\n",
    "# while the 1.Bundesliga is the lowestst league which pays money in the trasnfer market."
   ]
  },
  {
   "cell_type": "code",
   "execution_count": 35,
   "id": "af42168f",
   "metadata": {},
   "outputs": [
    {
     "data": {
      "image/png": "[encoded data removed]",
      "text/plain": [
       "<Figure size 1440x720 with 1 Axes>"
      ]
     },
     "metadata": {},
     "output_type": "display_data"
    }
   ],
   "source": [
    "labs=League_buy.index\n",
    "vals=League_buy.values\n",
    "fig,axp=plt.subplots(figsize=(20,10))\n",
    "axp.pie(vals,labels=labs,autopct='%1.1f%%',shadow=True,startangle=90)\n",
    "axp.axis('equal')\n",
    "plt.title('The Money Paid by each League in the Transfer Market')\n",
    "plt.show()"
   ]
  },
  {
   "cell_type": "code",
   "execution_count": 36,
   "id": "46f4daf1",
   "metadata": {},
   "outputs": [],
   "source": [
    "#The Premier League is the League which paid the most money of percentage 40.6% while the 1.Bundesliga is the League which paid\n",
    "# the least money of percentage 9.9%"
   ]
  },
  {
   "cell_type": "markdown",
   "id": "6f00b73a",
   "metadata": {},
   "source": [
    "WHICH LEAGUE GAINS THE MOST MONEY FROM SELLING PLAYERS ?"
   ]
  },
  {
   "cell_type": "code",
   "execution_count": 37,
   "id": "fd978cd1",
   "metadata": {},
   "outputs": [
    {
     "data": {
      "text/plain": [
       "League_from\n",
       "Serie A                  6571000000\n",
       "Premier League           6502180000\n",
       "LaLiga                   4930140000\n",
       "Ligue 1                  4002760000\n",
       "1.Bundesliga             2855810000\n",
       "                            ...    \n",
       "Primera Div. Apertura       2000000\n",
       "J1 - 2nd Stage              2000000\n",
       "Regionalliga Nord           1800000\n",
       " China                      1300000\n",
       "Challenge League             825000\n",
       "Name: Transfer_fee, Length: 86, dtype: int64"
      ]
     },
     "execution_count": 37,
     "metadata": {},
     "output_type": "execute_result"
    }
   ],
   "source": [
    "League_sell=data_top5_leagues.groupby('League_from').Transfer_fee.sum().sort_values(ascending=False)\n",
    "League_sell"
   ]
  },
  {
   "cell_type": "code",
   "execution_count": 38,
   "id": "b151bc6a",
   "metadata": {},
   "outputs": [
    {
     "data": {
      "image/png": "[encoded data removed]",
      "text/plain": [
       "<Figure size 432x288 with 1 Axes>"
      ]
     },
     "metadata": {
      "needs_background": "light"
     },
     "output_type": "display_data"
    }
   ],
   "source": [
    "League_sell.head().plot(kind='bar',lw=3,edgecolor='red',width=0.6)\n",
    "plt.xticks(rotation=0)\n",
    "plt.xlabel('League')\n",
    "yticks = list(np.arange(0,9000000000,1000000000))\n",
    "plt.yticks(ticks=yticks,labels=[f\"{round(int(y)/1000000000) } Billion $\" if y > 0 else \"0\" for y in yticks])\n",
    "plt.title('Money Gained by every League in the Transfer Market',fontsize=10,style='oblique')\n",
    "plt.show()"
   ]
  },
  {
   "cell_type": "code",
   "execution_count": 39,
   "id": "f0a84a39",
   "metadata": {},
   "outputs": [],
   "source": [
    "# We can notice that Seria A is the most League that gains money by selling its players however Premier League can be considered\n",
    "# also with the most leagues that gains money since is approximately qual to Seria A.\n",
    "# However, 1.Bundesliga is the league that gains the least money by selling its players."
   ]
  },
  {
   "cell_type": "markdown",
   "id": "6349626a",
   "metadata": {},
   "source": [
    "DO THE TOP 5 LEAGUES MAKE PROFIT OR LOSSES FROM BUYING AND SELLING PLAYERS ?"
   ]
  },
  {
   "cell_type": "code",
   "execution_count": 40,
   "id": "8aec22dd",
   "metadata": {},
   "outputs": [
    {
     "data": {
      "text/plain": [
       "Premier League   -8.193220\n",
       "LaLiga           -1.750220\n",
       "Serie A          -0.964220\n",
       "1.Bundesliga     -0.743835\n",
       "Ligue 1           0.320040\n",
       "Name: Transfer_fee, dtype: float64"
      ]
     },
     "execution_count": 40,
     "metadata": {},
     "output_type": "execute_result"
    }
   ],
   "source": [
    "profit=League_sell.head() - League_buy\n",
    "profit.sort_values(inplace=True)\n",
    "profit=profit/1000000000\n",
    "profit"
   ]
  },
  {
   "cell_type": "code",
   "execution_count": 41,
   "id": "a4ecd354",
   "metadata": {},
   "outputs": [
    {
     "data": {
      "image/png": "[encoded data removed]",
      "text/plain": [
       "<Figure size 432x288 with 1 Axes>"
      ]
     },
     "metadata": {
      "needs_background": "light"
     },
     "output_type": "display_data"
    }
   ],
   "source": [
    "sns.barplot(x=profit.index,y=profit.values,data=profit)\n",
    "plt.xticks(ticks=np.arange(0,5,1),labels=profit.index)\n",
    "plt.xlabel('League')\n",
    "plt.title('The Profit of each of the Top 5 Leagues',style='italic',fontsize=12)\n",
    "plt.show()"
   ]
  },
  {
   "cell_type": "code",
   "execution_count": 42,
   "id": "999cba9e",
   "metadata": {},
   "outputs": [],
   "source": [
    "# Approximately all the Leagues losses except Ligue 1 which gains approximately 320,040,000"
   ]
  },
  {
   "cell_type": "markdown",
   "id": "ef9f09e4",
   "metadata": {},
   "source": [
    "LEAGUE OF THE MOST NUMBER OF TRANSFERS"
   ]
  },
  {
   "cell_type": "code",
   "execution_count": 43,
   "id": "97398cbc",
   "metadata": {},
   "outputs": [],
   "source": [
    "nb_of_transfers=data_top5_leagues.groupby(['League_to']).League_to.count().sort_values(ascending=False)"
   ]
  },
  {
   "cell_type": "code",
   "execution_count": 44,
   "id": "d11d68b3",
   "metadata": {},
   "outputs": [
    {
     "data": {
      "image/png": "[encoded data removed]",
      "text/plain": [
       "<Figure size 432x288 with 1 Axes>"
      ]
     },
     "metadata": {
      "needs_background": "light"
     },
     "output_type": "display_data"
    }
   ],
   "source": [
    "sns.barplot(x=nb_of_transfers.index,y=nb_of_transfers)\n",
    "plt.xlabel('League')\n",
    "plt.ylabel('Frequency')\n",
    "plt.title('The Frequency of Transfers in each of the Top 5 Leagues')\n",
    "plt.show()"
   ]
  },
  {
   "cell_type": "code",
   "execution_count": 45,
   "id": "0362ad44",
   "metadata": {},
   "outputs": [
    {
     "data": {
      "image/png": "[encoded data removed]",
      "text/plain": [
       "<Figure size 1440x720 with 1 Axes>"
      ]
     },
     "metadata": {},
     "output_type": "display_data"
    }
   ],
   "source": [
    "fig,axp=plt.subplots(figsize=(20,10))\n",
    "axp.pie(nb_of_transfers.values,labels=nb_of_transfers.index,autopct='%1.1f%%',shadow=True,startangle=90)\n",
    "plt.title('The Percentage of number of Transfers in each of the Top 5 Leagues')\n",
    "plt.show()"
   ]
  },
  {
   "cell_type": "code",
   "execution_count": 46,
   "id": "12798156",
   "metadata": {},
   "outputs": [],
   "source": [
    "# The Premier League has the highest percentage of transfers with 37.6 % while the 1.Bundesliga has the lowest percentage of \n",
    "# transfers with 11.9 %"
   ]
  },
  {
   "cell_type": "markdown",
   "id": "1e43898e",
   "metadata": {},
   "source": [
    "TEAMS WITH THE LARGEST TRANSFER FEE"
   ]
  },
  {
   "cell_type": "code",
   "execution_count": 47,
   "id": "cdf5df35",
   "metadata": {},
   "outputs": [
    {
     "data": {
      "text/plain": [
       "Team_to         League_to     \n",
       "Chelsea         Premier League    1820650000\n",
       "Man City        Premier League    1779660000\n",
       "Real Madrid     LaLiga            1680650000\n",
       "FC Barcelona    LaLiga            1673040000\n",
       "Man Utd         Premier League    1497360000\n",
       "                                     ...    \n",
       "Como            Serie A              2500000\n",
       "Levante UD      LaLiga               2200000\n",
       "Hansa Rostock   1.Bundesliga         2200000\n",
       "Rayo Vallecano  LaLiga               2000000\n",
       "Guingamp        Ligue 1              1800000\n",
       "Name: Transfer_fee, Length: 147, dtype: int64"
      ]
     },
     "execution_count": 47,
     "metadata": {},
     "output_type": "execute_result"
    }
   ],
   "source": [
    "top_buyers=data_top5_leagues.groupby(['Team_to','League_to']).Transfer_fee.sum().sort_values(ascending=False)\n",
    "top_buyers"
   ]
  },
  {
   "cell_type": "code",
   "execution_count": 48,
   "id": "cf7ca4bd",
   "metadata": {},
   "outputs": [
    {
     "data": {
      "image/png": "[encoded data removed]",
      "text/plain": [
       "<Figure size 1440x720 with 1 Axes>"
      ]
     },
     "metadata": {
      "needs_background": "light"
     },
     "output_type": "display_data"
    }
   ],
   "source": [
    "from matplotlib.pyplot import figure\n",
    "figure(figsize=(20,10))\n",
    "(top_buyers.head(10)/1000000000).plot(kind='bar',lw=4,edgecolor='red',width=0.6)\n",
    "plt.xlabel('Team and League')\n",
    "plt.ylabel('Billion $')\n",
    "plt.show()"
   ]
  },
  {
   "cell_type": "code",
   "execution_count": 49,
   "id": "b3ad4871",
   "metadata": {},
   "outputs": [],
   "source": [
    "# From the top 10 teams that have the largest transfer fees we can notice that Chelsea is the team with the largest transfer\n",
    "# fees compared to the other teams"
   ]
  },
  {
   "cell_type": "markdown",
   "id": "9aa854b4",
   "metadata": {},
   "source": [
    "WHICH TEAM GAINS THE MOST MONEY IN TRANSFER MARKET"
   ]
  },
  {
   "cell_type": "code",
   "execution_count": 50,
   "id": "78cb6063",
   "metadata": {},
   "outputs": [
    {
     "data": {
      "text/plain": [
       "Team_from     League_from   \n",
       "Monaco        Ligue 1           930170000\n",
       "Real Madrid   LaLiga            858400000\n",
       "Liverpool     Premier League    773160000\n",
       "FC Porto      Liga NOS          741350000\n",
       "Inter         Serie A           704600000\n",
       "FC Barcelona  LaLiga            686950000\n",
       "Chelsea       Premier League    679030000\n",
       "Juventus      Serie A           671180000\n",
       "AS Roma       Serie A           662700000\n",
       "Benfica       Liga NOS          650670000\n",
       "Name: Transfer_fee, dtype: int64"
      ]
     },
     "execution_count": 50,
     "metadata": {},
     "output_type": "execute_result"
    }
   ],
   "source": [
    "top_sellers=data_top5_leagues.groupby(['Team_from','League_from']).Transfer_fee.sum().sort_values(ascending=False)\n",
    "top_sellers.head(10)"
   ]
  },
  {
   "cell_type": "code",
   "execution_count": 51,
   "id": "e9e2c06f",
   "metadata": {},
   "outputs": [
    {
     "data": {
      "image/png": "[encoded data removed]",
      "text/plain": [
       "<Figure size 432x288 with 1 Axes>"
      ]
     },
     "metadata": {
      "needs_background": "light"
     },
     "output_type": "display_data"
    }
   ],
   "source": [
    "top_sellers.head(10).plot(kind='bar',lw=4,edgecolor='red',width=0.6)\n",
    "yticks=list(np.arange(0,1000000000,100000000))\n",
    "plt.xticks(rotation=90)\n",
    "plt.yticks(ticks=yticks,labels=[f\"{round(int(y)/1000000)} Million $\" if y>0 else \"0\" for y in yticks])\n",
    "plt.title('Teams that Gains the Most Money in Transfer Market')\n",
    "plt.show()"
   ]
  },
  {
   "cell_type": "code",
   "execution_count": 52,
   "id": "9f27bbc2",
   "metadata": {},
   "outputs": [],
   "source": [
    "# Monaco is the team that benefits the most from buying its players."
   ]
  },
  {
   "cell_type": "markdown",
   "id": "01f37b8a",
   "metadata": {},
   "source": [
    "TEAMS WITH THE MOST TRANSFERS IN THE TOP 5 LEAGUES"
   ]
  },
  {
   "cell_type": "code",
   "execution_count": 53,
   "id": "4e776cf5",
   "metadata": {},
   "outputs": [
    {
     "data": {
      "text/plain": [
       "Team_to\n",
       "Inter              97\n",
       "Chelsea            96\n",
       "Spurs              93\n",
       "Man City           89\n",
       "Juventus           86\n",
       "Liverpool          85\n",
       "AS Roma            77\n",
       "Real Madrid        75\n",
       "FC Barcelona       70\n",
       "Atlético Madrid    69\n",
       "Name: Team_to, dtype: int64"
      ]
     },
     "execution_count": 53,
     "metadata": {},
     "output_type": "execute_result"
    }
   ],
   "source": [
    "data_top5_leagues.groupby('Team_to').Team_to.count().sort_values(ascending=False).head(10)"
   ]
  },
  {
   "cell_type": "code",
   "execution_count": 54,
   "id": "1a8e31be",
   "metadata": {},
   "outputs": [
    {
     "data": {
      "image/png": "[encoded data removed]",
      "text/plain": [
       "<Figure size 1440x720 with 1 Axes>"
      ]
     },
     "metadata": {
      "needs_background": "light"
     },
     "output_type": "display_data"
    }
   ],
   "source": [
    "from matplotlib.pyplot import figure\n",
    "figure(figsize=(20,10))\n",
    "sns.countplot(x='Team_to',order=data_top5_leagues.groupby('Team_to').Team_to.count().sort_values(ascending=False)[0:75].index,\n",
    "             data=data_top5_leagues)\n",
    "plt.xticks(rotation=90)\n",
    "plt.xlabel('Teams')\n",
    "plt.ylabel('Count')\n",
    "plt.title('The Number of Transfers for 76 Teams')\n",
    "plt.show()"
   ]
  },
  {
   "cell_type": "code",
   "execution_count": 55,
   "id": "a6fd7e0d",
   "metadata": {},
   "outputs": [],
   "source": [
    "# Inter is the team of the top 5 leagues that contains the largest frequency of Transfers."
   ]
  },
  {
   "cell_type": "markdown",
   "id": "89645d16",
   "metadata": {},
   "source": [
    "TEAMS WITH THE MOST TRANSFERS IN LEAGUES"
   ]
  },
  {
   "cell_type": "code",
   "execution_count": 56,
   "id": "36e1e6a1",
   "metadata": {},
   "outputs": [],
   "source": [
    "premier_league=data_top5_leagues[data_top5_leagues['League_to']=='Premier League']\n",
    "laliga=data_top5_leagues[data_top5_leagues['League_to']=='LaLiga']\n",
    "ligue1=data_top5_leagues[data_top5_leagues['League_to']=='Ligue 1']\n",
    "bundesliga=data_top5_leagues[data_top5_leagues['League_to']=='1.Bundesliga']\n",
    "serieA=data_top5_leagues[data_top5_leagues['League_to']=='Serie A']"
   ]
  },
  {
   "cell_type": "code",
   "execution_count": 57,
   "id": "ec746119",
   "metadata": {},
   "outputs": [
    {
     "data": {
      "text/plain": [
       "Team_to\n",
       "Bayern Munich      54\n",
       "VfL Wolfsburg      53\n",
       "Bor. Dortmund      49\n",
       "Bay. Leverkusen    47\n",
       "Hamburger SV       40\n",
       "FC Schalke 04      32\n",
       "Werder Bremen      25\n",
       "Bor. M'gladbach    22\n",
       "VfB Stuttgart      22\n",
       "TSG Hoffenheim     20\n",
       "RB Leipzig         11\n",
       "Hertha BSC         10\n",
       "Hannover 96         8\n",
       "1.FC K'lautern      6\n",
       "1.FSV Mainz 05      6\n",
       "1. FC Köln          5\n",
       "1860 Munich         4\n",
       "E. Frankfurt        3\n",
       "SC Freiburg         3\n",
       "FC Augsburg         1\n",
       "Hansa Rostock       1\n",
       "Name: Team_to, dtype: int64"
      ]
     },
     "execution_count": 57,
     "metadata": {},
     "output_type": "execute_result"
    }
   ],
   "source": [
    "bundesliga.groupby('Team_to').Team_to.count().sort_values(ascending=False)"
   ]
  },
  {
   "cell_type": "code",
   "execution_count": 58,
   "id": "17d1fe7e",
   "metadata": {},
   "outputs": [
    {
     "data": {
      "image/png": "[encoded data removed]",
      "text/plain": [
       "<Figure size 432x288 with 1 Axes>"
      ]
     },
     "metadata": {
      "needs_background": "light"
     },
     "output_type": "display_data"
    }
   ],
   "source": [
    "sns.countplot(x=\"Team_to\",data=bundesliga,order=bundesliga.groupby('Team_to').Team_to.count().sort_values(ascending=False).index)\n",
    "plt.xticks(rotation=90)\n",
    "plt.xlabel('Bundesliga Teams')\n",
    "plt.title('1.Bundesliga Transfers in (2000-2018)')\n",
    "plt.show()"
   ]
  },
  {
   "cell_type": "code",
   "execution_count": 59,
   "id": "9a35a877",
   "metadata": {},
   "outputs": [],
   "source": [
    "# Bayern Munich is the team that contains the largest number of transfers with 54 transfer while Hansa Rostock is the team with the lowest number\n",
    "# of transfers with 1 transfer only along with FC Augsburg in Bundesliga."
   ]
  },
  {
   "cell_type": "code",
   "execution_count": 60,
   "id": "35ed2943",
   "metadata": {},
   "outputs": [
    {
     "data": {
      "text/plain": [
       "Team_to\n",
       "Chelsea           96\n",
       "Spurs             93\n",
       "Man City          89\n",
       "Liverpool         85\n",
       "Man Utd           65\n",
       "Everton           63\n",
       "Arsenal           61\n",
       "Newcastle         57\n",
       "West Ham          54\n",
       "Aston Villa       52\n",
       "Sunderland        49\n",
       "Southampton       43\n",
       "Fulham            37\n",
       "West Brom         33\n",
       "Middlesbrough     32\n",
       "Blackburn         27\n",
       "Leicester         25\n",
       "Birmingham        25\n",
       "Stoke City        24\n",
       "Wigan             22\n",
       "Portsmouth        21\n",
       "Watford           19\n",
       "Charlton          19\n",
       "Crystal Palace    16\n",
       "Swansea           16\n",
       "QPR               14\n",
       "Wolves            14\n",
       "Hull City         13\n",
       "Bournemouth       11\n",
       "Bolton            11\n",
       "Norwich            8\n",
       "Leeds              8\n",
       "Huddersfield       8\n",
       "Brighton           7\n",
       "Derby              7\n",
       "Ipswich            7\n",
       "Burnley            6\n",
       "Cardiff            5\n",
       "Sheffield Utd.     4\n",
       "Pyramids FC        3\n",
       "Coventry City      3\n",
       "Reading            2\n",
       "Bradford City      2\n",
       "Name: Team_to, dtype: int64"
      ]
     },
     "execution_count": 60,
     "metadata": {},
     "output_type": "execute_result"
    }
   ],
   "source": [
    "premier_league.groupby('Team_to').Team_to.count().sort_values(ascending=False)"
   ]
  },
  {
   "cell_type": "code",
   "execution_count": 61,
   "id": "23653efa",
   "metadata": {},
   "outputs": [
    {
     "data": {
      "image/png": "[encoded data removed]",
      "text/plain": [
       "<Figure size 1440x720 with 1 Axes>"
      ]
     },
     "metadata": {
      "needs_background": "light"
     },
     "output_type": "display_data"
    }
   ],
   "source": [
    "from matplotlib.pyplot import figure\n",
    "figure(figsize=(20,10))\n",
    "sns.countplot(x=\"Team_to\",data=premier_league,order=premier_league.groupby('Team_to').Team_to.count().sort_values(ascending=False).index)\n",
    "plt.xticks(rotation=90)\n",
    "plt.xlabel('Premier League Teams')\n",
    "plt.title('Premier League Transfers in (2000-2018)')\n",
    "plt.show()"
   ]
  },
  {
   "cell_type": "code",
   "execution_count": 137,
   "id": "d03863a6",
   "metadata": {},
   "outputs": [],
   "source": [
    "# In addition to that Chelsea is the tam of the highest transfers between the leagues it is also the team of the highest tranfers \n",
    "# in the premier league with 96 transfer while Bradford City is the tem with the lowest transfers with 2 along with Reading"
   ]
  },
  {
   "cell_type": "code",
   "execution_count": 63,
   "id": "e8981917",
   "metadata": {},
   "outputs": [
    {
     "data": {
      "text/plain": [
       "Team_to\n",
       "Real Madrid        75\n",
       "FC Barcelona       70\n",
       "Atlético Madrid    69\n",
       "Valencia CF        57\n",
       "Sevilla FC         51\n",
       "Villarreal CF      50\n",
       "Real Betis         21\n",
       "Dep. La Coruña     19\n",
       "Real Sociedad      19\n",
       "Espanyol           15\n",
       "Real Zaragoza      12\n",
       "Athletic Bilbao    10\n",
       "RCD Mallorca       10\n",
       "Málaga CF           9\n",
       "Celta de Vigo       9\n",
       "Getafe CF           8\n",
       "Racing              3\n",
       "Granada CF          3\n",
       "Girona FC           2\n",
       "UD Almería          2\n",
       "UD Las Palmas       2\n",
       "CA Osasuna          2\n",
       "Alavés              2\n",
       "Levante UD          1\n",
       "Rayo Vallecano      1\n",
       "Hércules CF         1\n",
       "Real Murcia         1\n",
       "Recr. Huelva        1\n",
       "Name: Team_to, dtype: int64"
      ]
     },
     "execution_count": 63,
     "metadata": {},
     "output_type": "execute_result"
    }
   ],
   "source": [
    "laliga.groupby('Team_to').Team_to.count().sort_values(ascending=False)"
   ]
  },
  {
   "cell_type": "code",
   "execution_count": 64,
   "id": "776df8fe",
   "metadata": {},
   "outputs": [
    {
     "data": {
      "image/png": "[encoded data removed]",
      "text/plain": [
       "<Figure size 1440x720 with 1 Axes>"
      ]
     },
     "metadata": {
      "needs_background": "light"
     },
     "output_type": "display_data"
    }
   ],
   "source": [
    "from matplotlib.pyplot import figure\n",
    "figure(figsize=(20,10))\n",
    "sns.countplot(x=\"Team_to\",data=laliga,order=laliga.groupby('Team_to').Team_to.count().sort_values(ascending=False).index)\n",
    "plt.xticks(rotation=90)\n",
    "plt.xlabel('La Liga Teams')\n",
    "plt.title('La Liga Transfers in (2000-2018)')\n",
    "plt.show()"
   ]
  },
  {
   "cell_type": "code",
   "execution_count": 65,
   "id": "6673e2db",
   "metadata": {},
   "outputs": [],
   "source": [
    "# Real Madrid is the team that contains the largest number of transfers with 75 transfer while Levante ID is the team with the lowest number\n",
    "# of transfers with 1 transfer only along with Rayo Vallecano,Hércules CF,Real Murcia,Recr. Huelva in La Liga."
   ]
  },
  {
   "cell_type": "code",
   "execution_count": 66,
   "id": "66c91db8",
   "metadata": {},
   "outputs": [
    {
     "data": {
      "text/plain": [
       "Team_to\n",
       "Paris SG          66\n",
       "Marseille         60\n",
       "Monaco            56\n",
       "Olympique Lyon    56\n",
       "Stade Rennais     37\n",
       "G. Bordeaux       23\n",
       "Saint-Étienne     19\n",
       "LOSC Lille        19\n",
       "Lens              14\n",
       "Toulouse          10\n",
       "FC Nantes          9\n",
       "OGC Nice           7\n",
       "AJ Auxerre         7\n",
       "FC Sochaux         4\n",
       "FC Lorient         2\n",
       "Montpellier        2\n",
       "Le Mans            2\n",
       "R. Strasbourg      2\n",
       "Guingamp           1\n",
       "SM Caen            1\n",
       "Name: Team_to, dtype: int64"
      ]
     },
     "execution_count": 66,
     "metadata": {},
     "output_type": "execute_result"
    }
   ],
   "source": [
    "ligue1.groupby('Team_to').Team_to.count().sort_values(ascending=False)"
   ]
  },
  {
   "cell_type": "code",
   "execution_count": 67,
   "id": "80bbf15d",
   "metadata": {},
   "outputs": [
    {
     "data": {
      "image/png": "[encoded data removed]",
      "text/plain": [
       "<Figure size 1440x720 with 1 Axes>"
      ]
     },
     "metadata": {
      "needs_background": "light"
     },
     "output_type": "display_data"
    }
   ],
   "source": [
    "from matplotlib.pyplot import figure\n",
    "figure(figsize=(20,10))\n",
    "sns.countplot(x=\"Team_to\",data=ligue1,order=ligue1.groupby('Team_to').Team_to.count().sort_values(ascending=False).index)\n",
    "plt.xticks(rotation=90)\n",
    "plt.xlabel('Ligue 1 Teams')\n",
    "plt.title('Ligue 1 Transfers in (2000-2018)')\n",
    "plt.show()"
   ]
  },
  {
   "cell_type": "code",
   "execution_count": 68,
   "id": "27414e3a",
   "metadata": {},
   "outputs": [],
   "source": [
    "# Paris SG is the team that contains the largest number of transfers with 66 transfer while Guingamp is the team with the lowest number\n",
    "# of transfers with 1 transfer only along with SM Caen in Ligue 1."
   ]
  },
  {
   "cell_type": "code",
   "execution_count": 69,
   "id": "857b6b0b",
   "metadata": {},
   "outputs": [
    {
     "data": {
      "text/plain": [
       "Team_to\n",
       "Inter              97\n",
       "Juventus           86\n",
       "AS Roma            77\n",
       "AC Milan           68\n",
       "SSC Napoli         56\n",
       "Fiorentina         53\n",
       "Lazio              46\n",
       "Genoa              41\n",
       "Parma              32\n",
       "US Palermo         30\n",
       "Udinese Calcio     27\n",
       "Sampdoria          22\n",
       "Bologna            15\n",
       "Torino             15\n",
       "Atalanta           15\n",
       "Sassuolo           13\n",
       "Cagliari Calcio     9\n",
       "Siena               5\n",
       "Hellas Verona       4\n",
       "Brescia             3\n",
       "Bari                3\n",
       "Chievo Verona       3\n",
       "Reggina             3\n",
       "Lecce               2\n",
       "Catania             2\n",
       "Pescara             2\n",
       "RC Cesena           2\n",
       "Venezia             1\n",
       "Perugia             1\n",
       "SPAL                1\n",
       "Modena              1\n",
       "AS Livorno          1\n",
       "FC Empoli           1\n",
       "Como                1\n",
       "Vicenza             1\n",
       "Name: Team_to, dtype: int64"
      ]
     },
     "execution_count": 69,
     "metadata": {},
     "output_type": "execute_result"
    }
   ],
   "source": [
    "serieA.groupby('Team_to').Team_to.count().sort_values(ascending=False)"
   ]
  },
  {
   "cell_type": "code",
   "execution_count": 70,
   "id": "3cb3a5e5",
   "metadata": {},
   "outputs": [
    {
     "data": {
      "image/png": "[encoded data removed]",
      "text/plain": [
       "<Figure size 1440x720 with 1 Axes>"
      ]
     },
     "metadata": {
      "needs_background": "light"
     },
     "output_type": "display_data"
    }
   ],
   "source": [
    "from matplotlib.pyplot import figure\n",
    "figure(figsize=(20,10))\n",
    "sns.countplot(x=\"Team_to\",data=serieA,order=serieA.groupby('Team_to').Team_to.count().sort_values(ascending=False).index)\n",
    "plt.xticks(rotation=90)\n",
    "plt.xlabel('Serie A Teams')\n",
    "plt.title('Serie A Transfers in (2000-2018)')\n",
    "plt.show()"
   ]
  },
  {
   "cell_type": "code",
   "execution_count": 71,
   "id": "6dd5caa3",
   "metadata": {},
   "outputs": [],
   "source": [
    "# Inter is the team that contains the largest number of transfers with 97 transfer while Venezia is the team with the lowest number\n",
    "# of transfers with 1 transfer only along with Perugia, SPAL, Modena, AS Livorno, FC Empoli, Como, Vicenza in Serie A."
   ]
  },
  {
   "cell_type": "markdown",
   "id": "8386d032",
   "metadata": {},
   "source": [
    "PLAYERS STATISTICS"
   ]
  },
  {
   "cell_type": "code",
   "execution_count": 76,
   "id": "52522f95",
   "metadata": {},
   "outputs": [
    {
     "data": {
      "image/png": "[encoded data removed]",
      "text/plain": [
       "<Figure size 432x288 with 1 Axes>"
      ]
     },
     "metadata": {
      "needs_background": "light"
     },
     "output_type": "display_data"
    }
   ],
   "source": [
    "# Players Age distribution:\n",
    "sns.countplot(x='Age',data=data_top5_leagues)\n",
    "plt.title('Players Age Distribution')\n",
    "plt.show()"
   ]
  },
  {
   "cell_type": "code",
   "execution_count": 77,
   "id": "74e010c6",
   "metadata": {},
   "outputs": [],
   "source": [
    "# This shows that the average age of a footballplayer is 24 years old since age 24 has the highest frequency"
   ]
  },
  {
   "cell_type": "code",
   "execution_count": 79,
   "id": "c044d5a4",
   "metadata": {},
   "outputs": [
    {
     "data": {
      "text/html": [
       "<div>\n",
       "<style scoped>\n",
       "    .dataframe tbody tr th:only-of-type {\n",
       "        vertical-align: middle;\n",
       "    }\n",
       "\n",
       "    .dataframe tbody tr th {\n",
       "        vertical-align: top;\n",
       "    }\n",
       "\n",
       "    .dataframe thead th {\n",
       "        text-align: right;\n",
       "    }\n",
       "</style>\n",
       "<table border=\"1\" class=\"dataframe\">\n",
       "  <thead>\n",
       "    <tr style=\"text-align: right;\">\n",
       "      <th></th>\n",
       "      <th>count</th>\n",
       "      <th>min</th>\n",
       "      <th>max</th>\n",
       "    </tr>\n",
       "    <tr>\n",
       "      <th>Age</th>\n",
       "      <th></th>\n",
       "      <th></th>\n",
       "      <th></th>\n",
       "    </tr>\n",
       "  </thead>\n",
       "  <tbody>\n",
       "    <tr>\n",
       "      <th>16</th>\n",
       "      <td>7</td>\n",
       "      <td>3000000</td>\n",
       "      <td>21000000</td>\n",
       "    </tr>\n",
       "    <tr>\n",
       "      <th>17</th>\n",
       "      <td>17</td>\n",
       "      <td>2000000</td>\n",
       "      <td>24000000</td>\n",
       "    </tr>\n",
       "    <tr>\n",
       "      <th>18</th>\n",
       "      <td>58</td>\n",
       "      <td>2700000</td>\n",
       "      <td>45000000</td>\n",
       "    </tr>\n",
       "    <tr>\n",
       "      <th>19</th>\n",
       "      <td>122</td>\n",
       "      <td>1500000</td>\n",
       "      <td>135000000</td>\n",
       "    </tr>\n",
       "    <tr>\n",
       "      <th>20</th>\n",
       "      <td>217</td>\n",
       "      <td>950000</td>\n",
       "      <td>115000000</td>\n",
       "    </tr>\n",
       "    <tr>\n",
       "      <th>21</th>\n",
       "      <td>274</td>\n",
       "      <td>825000</td>\n",
       "      <td>88200000</td>\n",
       "    </tr>\n",
       "    <tr>\n",
       "      <th>22</th>\n",
       "      <td>310</td>\n",
       "      <td>1300000</td>\n",
       "      <td>70000000</td>\n",
       "    </tr>\n",
       "    <tr>\n",
       "      <th>23</th>\n",
       "      <td>381</td>\n",
       "      <td>1000000</td>\n",
       "      <td>105000000</td>\n",
       "    </tr>\n",
       "    <tr>\n",
       "      <th>24</th>\n",
       "      <td>394</td>\n",
       "      <td>900000</td>\n",
       "      <td>101000000</td>\n",
       "    </tr>\n",
       "    <tr>\n",
       "      <th>25</th>\n",
       "      <td>370</td>\n",
       "      <td>1100000</td>\n",
       "      <td>222000000</td>\n",
       "    </tr>\n",
       "    <tr>\n",
       "      <th>26</th>\n",
       "      <td>351</td>\n",
       "      <td>1250000</td>\n",
       "      <td>78800000</td>\n",
       "    </tr>\n",
       "    <tr>\n",
       "      <th>27</th>\n",
       "      <td>288</td>\n",
       "      <td>1120000</td>\n",
       "      <td>81720000</td>\n",
       "    </tr>\n",
       "    <tr>\n",
       "      <th>28</th>\n",
       "      <td>226</td>\n",
       "      <td>1200000</td>\n",
       "      <td>90000000</td>\n",
       "    </tr>\n",
       "    <tr>\n",
       "      <th>29</th>\n",
       "      <td>150</td>\n",
       "      <td>1000000</td>\n",
       "      <td>77500000</td>\n",
       "    </tr>\n",
       "    <tr>\n",
       "      <th>30</th>\n",
       "      <td>100</td>\n",
       "      <td>1500000</td>\n",
       "      <td>42000000</td>\n",
       "    </tr>\n",
       "    <tr>\n",
       "      <th>31</th>\n",
       "      <td>35</td>\n",
       "      <td>1100000</td>\n",
       "      <td>36150000</td>\n",
       "    </tr>\n",
       "    <tr>\n",
       "      <th>32</th>\n",
       "      <td>20</td>\n",
       "      <td>1800000</td>\n",
       "      <td>15100000</td>\n",
       "    </tr>\n",
       "    <tr>\n",
       "      <th>33</th>\n",
       "      <td>11</td>\n",
       "      <td>1500000</td>\n",
       "      <td>117000000</td>\n",
       "    </tr>\n",
       "    <tr>\n",
       "      <th>34</th>\n",
       "      <td>4</td>\n",
       "      <td>2400000</td>\n",
       "      <td>5000000</td>\n",
       "    </tr>\n",
       "    <tr>\n",
       "      <th>35</th>\n",
       "      <td>4</td>\n",
       "      <td>2000000</td>\n",
       "      <td>5300000</td>\n",
       "    </tr>\n",
       "  </tbody>\n",
       "</table>\n",
       "</div>"
      ],
      "text/plain": [
       "     count      min        max\n",
       "Age                           \n",
       "16       7  3000000   21000000\n",
       "17      17  2000000   24000000\n",
       "18      58  2700000   45000000\n",
       "19     122  1500000  135000000\n",
       "20     217   950000  115000000\n",
       "21     274   825000   88200000\n",
       "22     310  1300000   70000000\n",
       "23     381  1000000  105000000\n",
       "24     394   900000  101000000\n",
       "25     370  1100000  222000000\n",
       "26     351  1250000   78800000\n",
       "27     288  1120000   81720000\n",
       "28     226  1200000   90000000\n",
       "29     150  1000000   77500000\n",
       "30     100  1500000   42000000\n",
       "31      35  1100000   36150000\n",
       "32      20  1800000   15100000\n",
       "33      11  1500000  117000000\n",
       "34       4  2400000    5000000\n",
       "35       4  2000000    5300000"
      ]
     },
     "execution_count": 79,
     "metadata": {},
     "output_type": "execute_result"
    }
   ],
   "source": [
    "# Age vs Transfer fees\n",
    "data_top5_leagues.groupby('Age').Transfer_fee.agg(['count','min','max'])"
   ]
  },
  {
   "cell_type": "code",
   "execution_count": 81,
   "id": "e448a327",
   "metadata": {},
   "outputs": [
    {
     "data": {
      "text/html": [
       "<div>\n",
       "<style scoped>\n",
       "    .dataframe tbody tr th:only-of-type {\n",
       "        vertical-align: middle;\n",
       "    }\n",
       "\n",
       "    .dataframe tbody tr th {\n",
       "        vertical-align: top;\n",
       "    }\n",
       "\n",
       "    .dataframe thead th {\n",
       "        text-align: right;\n",
       "    }\n",
       "</style>\n",
       "<table border=\"1\" class=\"dataframe\">\n",
       "  <thead>\n",
       "    <tr style=\"text-align: right;\">\n",
       "      <th></th>\n",
       "      <th>mean</th>\n",
       "      <th>min</th>\n",
       "      <th>max</th>\n",
       "    </tr>\n",
       "    <tr>\n",
       "      <th>League_to</th>\n",
       "      <th></th>\n",
       "      <th></th>\n",
       "      <th></th>\n",
       "    </tr>\n",
       "  </thead>\n",
       "  <tbody>\n",
       "    <tr>\n",
       "      <th>1.Bundesliga</th>\n",
       "      <td>23.725118</td>\n",
       "      <td>17</td>\n",
       "      <td>35</td>\n",
       "    </tr>\n",
       "    <tr>\n",
       "      <th>LaLiga</th>\n",
       "      <td>24.396190</td>\n",
       "      <td>17</td>\n",
       "      <td>34</td>\n",
       "    </tr>\n",
       "    <tr>\n",
       "      <th>Ligue 1</th>\n",
       "      <td>23.889169</td>\n",
       "      <td>16</td>\n",
       "      <td>35</td>\n",
       "    </tr>\n",
       "    <tr>\n",
       "      <th>Premier League</th>\n",
       "      <td>24.516720</td>\n",
       "      <td>16</td>\n",
       "      <td>35</td>\n",
       "    </tr>\n",
       "    <tr>\n",
       "      <th>Serie A</th>\n",
       "      <td>24.347767</td>\n",
       "      <td>16</td>\n",
       "      <td>35</td>\n",
       "    </tr>\n",
       "  </tbody>\n",
       "</table>\n",
       "</div>"
      ],
      "text/plain": [
       "                     mean  min  max\n",
       "League_to                          \n",
       "1.Bundesliga    23.725118   17   35\n",
       "LaLiga          24.396190   17   34\n",
       "Ligue 1         23.889169   16   35\n",
       "Premier League  24.516720   16   35\n",
       "Serie A         24.347767   16   35"
      ]
     },
     "execution_count": 81,
     "metadata": {},
     "output_type": "execute_result"
    }
   ],
   "source": [
    "# Age vs League Statistics\n",
    "data_top5_leagues.groupby('League_to').Age.agg(['mean','min','max'])"
   ]
  },
  {
   "cell_type": "code",
   "execution_count": 82,
   "id": "e92a1637",
   "metadata": {},
   "outputs": [],
   "source": [
    "# This gives that the average of Age in each league is approximately 24 whereas 1.Bundesliga has the youngest average age of players"
   ]
  },
  {
   "cell_type": "code",
   "execution_count": 83,
   "id": "675da729",
   "metadata": {},
   "outputs": [
    {
     "data": {
      "text/html": [
       "<div>\n",
       "<style scoped>\n",
       "    .dataframe tbody tr th:only-of-type {\n",
       "        vertical-align: middle;\n",
       "    }\n",
       "\n",
       "    .dataframe tbody tr th {\n",
       "        vertical-align: top;\n",
       "    }\n",
       "\n",
       "    .dataframe thead th {\n",
       "        text-align: right;\n",
       "    }\n",
       "</style>\n",
       "<table border=\"1\" class=\"dataframe\">\n",
       "  <thead>\n",
       "    <tr style=\"text-align: right;\">\n",
       "      <th></th>\n",
       "      <th>mean</th>\n",
       "      <th>min</th>\n",
       "      <th>max</th>\n",
       "    </tr>\n",
       "    <tr>\n",
       "      <th>Position</th>\n",
       "      <th></th>\n",
       "      <th></th>\n",
       "      <th></th>\n",
       "    </tr>\n",
       "  </thead>\n",
       "  <tbody>\n",
       "    <tr>\n",
       "      <th>Defender</th>\n",
       "      <td>24.322581</td>\n",
       "      <td>16</td>\n",
       "      <td>34</td>\n",
       "    </tr>\n",
       "    <tr>\n",
       "      <th>Forward</th>\n",
       "      <td>24.079721</td>\n",
       "      <td>16</td>\n",
       "      <td>33</td>\n",
       "    </tr>\n",
       "    <tr>\n",
       "      <th>Goalkeeper</th>\n",
       "      <td>26.000000</td>\n",
       "      <td>19</td>\n",
       "      <td>35</td>\n",
       "    </tr>\n",
       "    <tr>\n",
       "      <th>Midfielder</th>\n",
       "      <td>24.265049</td>\n",
       "      <td>16</td>\n",
       "      <td>35</td>\n",
       "    </tr>\n",
       "  </tbody>\n",
       "</table>\n",
       "</div>"
      ],
      "text/plain": [
       "                 mean  min  max\n",
       "Position                       \n",
       "Defender    24.322581   16   34\n",
       "Forward     24.079721   16   33\n",
       "Goalkeeper  26.000000   19   35\n",
       "Midfielder  24.265049   16   35"
      ]
     },
     "execution_count": 83,
     "metadata": {},
     "output_type": "execute_result"
    }
   ],
   "source": [
    "# Age vs Position Statistics\n",
    "data_top5_leagues.groupby('Position').Age.agg(['mean','min','max'])"
   ]
  },
  {
   "cell_type": "code",
   "execution_count": 138,
   "id": "e30fe2fe",
   "metadata": {},
   "outputs": [],
   "source": [
    "#GoalKeeper Position has the highest average age compared to other positions."
   ]
  },
  {
   "cell_type": "code",
   "execution_count": 84,
   "id": "deecd9d6",
   "metadata": {},
   "outputs": [
    {
     "data": {
      "text/html": [
       "<div>\n",
       "<style scoped>\n",
       "    .dataframe tbody tr th:only-of-type {\n",
       "        vertical-align: middle;\n",
       "    }\n",
       "\n",
       "    .dataframe tbody tr th {\n",
       "        vertical-align: top;\n",
       "    }\n",
       "\n",
       "    .dataframe thead th {\n",
       "        text-align: right;\n",
       "    }\n",
       "</style>\n",
       "<table border=\"1\" class=\"dataframe\">\n",
       "  <thead>\n",
       "    <tr style=\"text-align: right;\">\n",
       "      <th></th>\n",
       "      <th>mean</th>\n",
       "      <th>min</th>\n",
       "      <th>max</th>\n",
       "    </tr>\n",
       "    <tr>\n",
       "      <th>Position</th>\n",
       "      <th></th>\n",
       "      <th></th>\n",
       "      <th></th>\n",
       "    </tr>\n",
       "  </thead>\n",
       "  <tbody>\n",
       "    <tr>\n",
       "      <th>Defender</th>\n",
       "      <td>9.288738e+06</td>\n",
       "      <td>825000</td>\n",
       "      <td>78800000</td>\n",
       "    </tr>\n",
       "    <tr>\n",
       "      <th>Forward</th>\n",
       "      <td>1.221750e+07</td>\n",
       "      <td>900000</td>\n",
       "      <td>222000000</td>\n",
       "    </tr>\n",
       "    <tr>\n",
       "      <th>Goalkeeper</th>\n",
       "      <td>8.357248e+06</td>\n",
       "      <td>1320000</td>\n",
       "      <td>62500000</td>\n",
       "    </tr>\n",
       "    <tr>\n",
       "      <th>Midfielder</th>\n",
       "      <td>1.077717e+07</td>\n",
       "      <td>950000</td>\n",
       "      <td>125000000</td>\n",
       "    </tr>\n",
       "  </tbody>\n",
       "</table>\n",
       "</div>"
      ],
      "text/plain": [
       "                    mean      min        max\n",
       "Position                                    \n",
       "Defender    9.288738e+06   825000   78800000\n",
       "Forward     1.221750e+07   900000  222000000\n",
       "Goalkeeper  8.357248e+06  1320000   62500000\n",
       "Midfielder  1.077717e+07   950000  125000000"
      ]
     },
     "execution_count": 84,
     "metadata": {},
     "output_type": "execute_result"
    }
   ],
   "source": [
    "# Position vs Transfer fee\n",
    "data_top5_leagues.groupby('Position').Transfer_fee.agg(['mean','min','max'])"
   ]
  },
  {
   "cell_type": "code",
   "execution_count": 85,
   "id": "90432273",
   "metadata": {},
   "outputs": [],
   "source": [
    "# Forward position have the highest average of transfer fee whereas the GoalKeeper position have the lowest average of transfer fee"
   ]
  },
  {
   "cell_type": "code",
   "execution_count": 92,
   "id": "01801c90",
   "metadata": {},
   "outputs": [
    {
     "data": {
      "text/plain": [
       "Name              Cesc Fàbregas\n",
       "Position             Midfielder\n",
       "Age                          16\n",
       "Team_from       Barça Juvenil A\n",
       "League_from               Spain\n",
       "Team_to                 Arsenal\n",
       "League_to        Premier League\n",
       "Season                2003-2004\n",
       "Market_value                NaN\n",
       "Transfer_fee            3200000\n",
       "Name: 841, dtype: object"
      ]
     },
     "execution_count": 92,
     "metadata": {},
     "output_type": "execute_result"
    }
   ],
   "source": [
    "# Top 5 leagues-Youngest player:\n",
    "data_top5_leagues.loc[data_top5_leagues['Age'].idxmin()]"
   ]
  },
  {
   "cell_type": "code",
   "execution_count": 94,
   "id": "acf7bf21",
   "metadata": {},
   "outputs": [
    {
     "data": {
      "text/plain": [
       "Name            José Luis Chilavert\n",
       "Position                 Goalkeeper\n",
       "Age                              35\n",
       "Team_from           Vélez Sarsfield\n",
       "League_from               Argentina\n",
       "Team_to               R. Strasbourg\n",
       "League_to                   Ligue 1\n",
       "Season                    2000-2001\n",
       "Market_value                    NaN\n",
       "Transfer_fee                5300000\n",
       "Name: 112, dtype: object"
      ]
     },
     "execution_count": 94,
     "metadata": {},
     "output_type": "execute_result"
    }
   ],
   "source": [
    "#Top 5 leagues-Oldest palyer:\n",
    "data_top5_leagues.loc[data_top5_leagues['Age'].idxmax()]"
   ]
  },
  {
   "cell_type": "code",
   "execution_count": 98,
   "id": "31d747ed",
   "metadata": {},
   "outputs": [
    {
     "data": {
      "text/plain": [
       "Name                  Neymar\n",
       "Position             Forward\n",
       "Age                       25\n",
       "Team_from       FC Barcelona\n",
       "League_from           LaLiga\n",
       "Team_to             Paris SG\n",
       "League_to            Ligue 1\n",
       "Season             2017-2018\n",
       "Market_value     100000000.0\n",
       "Transfer_fee       222000000\n",
       "Name: 4211, dtype: object"
      ]
     },
     "execution_count": 98,
     "metadata": {},
     "output_type": "execute_result"
    }
   ],
   "source": [
    "#Top 5 leagues- Highest Transfer fee player\n",
    "data_top5_leagues.loc[data_top5_leagues['Transfer_fee'].idxmax()]"
   ]
  },
  {
   "cell_type": "code",
   "execution_count": 99,
   "id": "750dc9b5",
   "metadata": {},
   "outputs": [
    {
     "data": {
      "text/plain": [
       "Name                  Rémo Meyer\n",
       "Position                Defender\n",
       "Age                           21\n",
       "Team_from         Lausanne-Sport\n",
       "League_from     Challenge League\n",
       "Team_to              1860 Munich\n",
       "League_to           1.Bundesliga\n",
       "Season                 2002-2003\n",
       "Market_value                 NaN\n",
       "Transfer_fee              825000\n",
       "Name: 741, dtype: object"
      ]
     },
     "execution_count": 99,
     "metadata": {},
     "output_type": "execute_result"
    }
   ],
   "source": [
    "#Top 5 leagues- Lowest Transfer fee player\n",
    "data_top5_leagues.loc[data_top5_leagues['Transfer_fee'].idxmin()]"
   ]
  },
  {
   "cell_type": "code",
   "execution_count": 97,
   "id": "bafa0720",
   "metadata": {},
   "outputs": [
    {
     "data": {
      "text/plain": [
       "Name            Kylian Mbappé\n",
       "Position              Forward\n",
       "Age                        19\n",
       "Team_from              Monaco\n",
       "League_from           Ligue 1\n",
       "Team_to              Paris SG\n",
       "League_to             Ligue 1\n",
       "Season              2018-2019\n",
       "Market_value      120000000.0\n",
       "Transfer_fee        135000000\n",
       "Name: 4455, dtype: object"
      ]
     },
     "execution_count": 97,
     "metadata": {},
     "output_type": "execute_result"
    }
   ],
   "source": [
    "#Top 5 leagues- Highest Market Value player\n",
    "data_top5_leagues.loc[data_top5_leagues['Market_value'].idxmax()]"
   ]
  },
  {
   "cell_type": "code",
   "execution_count": 100,
   "id": "e2a2917d",
   "metadata": {},
   "outputs": [
    {
     "data": {
      "text/plain": [
       "Name            Richard Chaplow\n",
       "Position             Midfielder\n",
       "Age                          20\n",
       "Team_from               Burnley\n",
       "League_from        Championship\n",
       "Team_to               West Brom\n",
       "League_to        Premier League\n",
       "Season                2004-2005\n",
       "Market_value            50000.0\n",
       "Transfer_fee            2250000\n",
       "Name: 1167, dtype: object"
      ]
     },
     "execution_count": 100,
     "metadata": {},
     "output_type": "execute_result"
    }
   ],
   "source": [
    "#Top 5 leagues- Lowest Market Value player\n",
    "data_top5_leagues.loc[data_top5_leagues['Market_value'].idxmin()]"
   ]
  },
  {
   "cell_type": "code",
   "execution_count": 114,
   "id": "22ab60e4",
   "metadata": {},
   "outputs": [
    {
     "data": {
      "text/html": [
       "<div>\n",
       "<style scoped>\n",
       "    .dataframe tbody tr th:only-of-type {\n",
       "        vertical-align: middle;\n",
       "    }\n",
       "\n",
       "    .dataframe tbody tr th {\n",
       "        vertical-align: top;\n",
       "    }\n",
       "\n",
       "    .dataframe thead th {\n",
       "        text-align: right;\n",
       "    }\n",
       "</style>\n",
       "<table border=\"1\" class=\"dataframe\">\n",
       "  <thead>\n",
       "    <tr style=\"text-align: right;\">\n",
       "      <th></th>\n",
       "      <th>Name</th>\n",
       "      <th>Position</th>\n",
       "      <th>Age</th>\n",
       "      <th>Team_from</th>\n",
       "      <th>League_from</th>\n",
       "      <th>Team_to</th>\n",
       "      <th>League_to</th>\n",
       "      <th>Season</th>\n",
       "      <th>Market_value</th>\n",
       "      <th>Transfer_fee</th>\n",
       "    </tr>\n",
       "  </thead>\n",
       "  <tbody>\n",
       "    <tr>\n",
       "      <th>0</th>\n",
       "      <td>Neymar</td>\n",
       "      <td>Forward</td>\n",
       "      <td>25</td>\n",
       "      <td>FC Barcelona</td>\n",
       "      <td>LaLiga</td>\n",
       "      <td>Paris SG</td>\n",
       "      <td>Ligue 1</td>\n",
       "      <td>2017-2018</td>\n",
       "      <td>100000000.0</td>\n",
       "      <td>222000000</td>\n",
       "    </tr>\n",
       "    <tr>\n",
       "      <th>1</th>\n",
       "      <td>Kylian Mbappé</td>\n",
       "      <td>Forward</td>\n",
       "      <td>19</td>\n",
       "      <td>Monaco</td>\n",
       "      <td>Ligue 1</td>\n",
       "      <td>Paris SG</td>\n",
       "      <td>Ligue 1</td>\n",
       "      <td>2018-2019</td>\n",
       "      <td>120000000.0</td>\n",
       "      <td>135000000</td>\n",
       "    </tr>\n",
       "    <tr>\n",
       "      <th>2</th>\n",
       "      <td>Philippe Coutinho</td>\n",
       "      <td>Midfielder</td>\n",
       "      <td>25</td>\n",
       "      <td>Liverpool</td>\n",
       "      <td>Premier League</td>\n",
       "      <td>FC Barcelona</td>\n",
       "      <td>LaLiga</td>\n",
       "      <td>2017-2018</td>\n",
       "      <td>90000000.0</td>\n",
       "      <td>125000000</td>\n",
       "    </tr>\n",
       "    <tr>\n",
       "      <th>3</th>\n",
       "      <td>Cristiano Ronaldo</td>\n",
       "      <td>Forward</td>\n",
       "      <td>33</td>\n",
       "      <td>Real Madrid</td>\n",
       "      <td>LaLiga</td>\n",
       "      <td>Juventus</td>\n",
       "      <td>Serie A</td>\n",
       "      <td>2018-2019</td>\n",
       "      <td>100000000.0</td>\n",
       "      <td>117000000</td>\n",
       "    </tr>\n",
       "    <tr>\n",
       "      <th>4</th>\n",
       "      <td>Ousmane Dembélé</td>\n",
       "      <td>Forward</td>\n",
       "      <td>20</td>\n",
       "      <td>Bor. Dortmund</td>\n",
       "      <td>1.Bundesliga</td>\n",
       "      <td>FC Barcelona</td>\n",
       "      <td>LaLiga</td>\n",
       "      <td>2017-2018</td>\n",
       "      <td>33000000.0</td>\n",
       "      <td>115000000</td>\n",
       "    </tr>\n",
       "    <tr>\n",
       "      <th>5</th>\n",
       "      <td>Paul Pogba</td>\n",
       "      <td>Midfielder</td>\n",
       "      <td>23</td>\n",
       "      <td>Juventus</td>\n",
       "      <td>Serie A</td>\n",
       "      <td>Man Utd</td>\n",
       "      <td>Premier League</td>\n",
       "      <td>2016-2017</td>\n",
       "      <td>70000000.0</td>\n",
       "      <td>105000000</td>\n",
       "    </tr>\n",
       "    <tr>\n",
       "      <th>6</th>\n",
       "      <td>Gareth Bale</td>\n",
       "      <td>Forward</td>\n",
       "      <td>24</td>\n",
       "      <td>Spurs</td>\n",
       "      <td>Premier League</td>\n",
       "      <td>Real Madrid</td>\n",
       "      <td>LaLiga</td>\n",
       "      <td>2013-2014</td>\n",
       "      <td>65000000.0</td>\n",
       "      <td>101000000</td>\n",
       "    </tr>\n",
       "    <tr>\n",
       "      <th>7</th>\n",
       "      <td>Cristiano Ronaldo</td>\n",
       "      <td>Forward</td>\n",
       "      <td>24</td>\n",
       "      <td>Man Utd</td>\n",
       "      <td>Premier League</td>\n",
       "      <td>Real Madrid</td>\n",
       "      <td>LaLiga</td>\n",
       "      <td>2009-2010</td>\n",
       "      <td>60000000.0</td>\n",
       "      <td>94000000</td>\n",
       "    </tr>\n",
       "    <tr>\n",
       "      <th>8</th>\n",
       "      <td>Gonzalo Higuaín</td>\n",
       "      <td>Forward</td>\n",
       "      <td>28</td>\n",
       "      <td>SSC Napoli</td>\n",
       "      <td>Serie A</td>\n",
       "      <td>Juventus</td>\n",
       "      <td>Serie A</td>\n",
       "      <td>2016-2017</td>\n",
       "      <td>65000000.0</td>\n",
       "      <td>90000000</td>\n",
       "    </tr>\n",
       "    <tr>\n",
       "      <th>9</th>\n",
       "      <td>Neymar</td>\n",
       "      <td>Forward</td>\n",
       "      <td>21</td>\n",
       "      <td>Santos FC</td>\n",
       "      <td>Série A</td>\n",
       "      <td>FC Barcelona</td>\n",
       "      <td>LaLiga</td>\n",
       "      <td>2013-2014</td>\n",
       "      <td>50000000.0</td>\n",
       "      <td>88200000</td>\n",
       "    </tr>\n",
       "  </tbody>\n",
       "</table>\n",
       "</div>"
      ],
      "text/plain": [
       "                Name    Position  Age      Team_from     League_from  \\\n",
       "0             Neymar     Forward   25   FC Barcelona          LaLiga   \n",
       "1      Kylian Mbappé     Forward   19         Monaco         Ligue 1   \n",
       "2  Philippe Coutinho  Midfielder   25      Liverpool  Premier League   \n",
       "3  Cristiano Ronaldo     Forward   33    Real Madrid          LaLiga   \n",
       "4    Ousmane Dembélé     Forward   20  Bor. Dortmund    1.Bundesliga   \n",
       "5         Paul Pogba  Midfielder   23       Juventus         Serie A   \n",
       "6        Gareth Bale     Forward   24          Spurs  Premier League   \n",
       "7  Cristiano Ronaldo     Forward   24        Man Utd  Premier League   \n",
       "8    Gonzalo Higuaín     Forward   28     SSC Napoli         Serie A   \n",
       "9             Neymar     Forward   21      Santos FC         Série A   \n",
       "\n",
       "        Team_to       League_to     Season  Market_value  Transfer_fee  \n",
       "0      Paris SG         Ligue 1  2017-2018   100000000.0     222000000  \n",
       "1      Paris SG         Ligue 1  2018-2019   120000000.0     135000000  \n",
       "2  FC Barcelona          LaLiga  2017-2018    90000000.0     125000000  \n",
       "3      Juventus         Serie A  2018-2019   100000000.0     117000000  \n",
       "4  FC Barcelona          LaLiga  2017-2018    33000000.0     115000000  \n",
       "5       Man Utd  Premier League  2016-2017    70000000.0     105000000  \n",
       "6   Real Madrid          LaLiga  2013-2014    65000000.0     101000000  \n",
       "7   Real Madrid          LaLiga  2009-2010    60000000.0      94000000  \n",
       "8      Juventus         Serie A  2016-2017    65000000.0      90000000  \n",
       "9  FC Barcelona          LaLiga  2013-2014    50000000.0      88200000  "
      ]
     },
     "execution_count": 114,
     "metadata": {},
     "output_type": "execute_result"
    }
   ],
   "source": [
    "#Top 10 players with highest Transfer fees\n",
    "data_top5_leagues.sort_values('Transfer_fee',ascending=False)[0:10].reset_index(drop=True)"
   ]
  },
  {
   "cell_type": "code",
   "execution_count": 115,
   "id": "570ab8d4",
   "metadata": {},
   "outputs": [
    {
     "data": {
      "text/html": [
       "<div>\n",
       "<style scoped>\n",
       "    .dataframe tbody tr th:only-of-type {\n",
       "        vertical-align: middle;\n",
       "    }\n",
       "\n",
       "    .dataframe tbody tr th {\n",
       "        vertical-align: top;\n",
       "    }\n",
       "\n",
       "    .dataframe thead th {\n",
       "        text-align: right;\n",
       "    }\n",
       "</style>\n",
       "<table border=\"1\" class=\"dataframe\">\n",
       "  <thead>\n",
       "    <tr style=\"text-align: right;\">\n",
       "      <th></th>\n",
       "      <th>Name</th>\n",
       "      <th>Position</th>\n",
       "      <th>Age</th>\n",
       "      <th>Team_from</th>\n",
       "      <th>League_from</th>\n",
       "      <th>Team_to</th>\n",
       "      <th>League_to</th>\n",
       "      <th>Season</th>\n",
       "      <th>Market_value</th>\n",
       "      <th>Transfer_fee</th>\n",
       "    </tr>\n",
       "  </thead>\n",
       "  <tbody>\n",
       "    <tr>\n",
       "      <th>0</th>\n",
       "      <td>Kylian Mbappé</td>\n",
       "      <td>Forward</td>\n",
       "      <td>19</td>\n",
       "      <td>Monaco</td>\n",
       "      <td>Ligue 1</td>\n",
       "      <td>Paris SG</td>\n",
       "      <td>Ligue 1</td>\n",
       "      <td>2018-2019</td>\n",
       "      <td>120000000.0</td>\n",
       "      <td>135000000</td>\n",
       "    </tr>\n",
       "    <tr>\n",
       "      <th>1</th>\n",
       "      <td>Cristiano Ronaldo</td>\n",
       "      <td>Forward</td>\n",
       "      <td>33</td>\n",
       "      <td>Real Madrid</td>\n",
       "      <td>LaLiga</td>\n",
       "      <td>Juventus</td>\n",
       "      <td>Serie A</td>\n",
       "      <td>2018-2019</td>\n",
       "      <td>100000000.0</td>\n",
       "      <td>117000000</td>\n",
       "    </tr>\n",
       "    <tr>\n",
       "      <th>2</th>\n",
       "      <td>Neymar</td>\n",
       "      <td>Forward</td>\n",
       "      <td>25</td>\n",
       "      <td>FC Barcelona</td>\n",
       "      <td>LaLiga</td>\n",
       "      <td>Paris SG</td>\n",
       "      <td>Ligue 1</td>\n",
       "      <td>2017-2018</td>\n",
       "      <td>100000000.0</td>\n",
       "      <td>222000000</td>\n",
       "    </tr>\n",
       "    <tr>\n",
       "      <th>3</th>\n",
       "      <td>Philippe Coutinho</td>\n",
       "      <td>Midfielder</td>\n",
       "      <td>25</td>\n",
       "      <td>Liverpool</td>\n",
       "      <td>Premier League</td>\n",
       "      <td>FC Barcelona</td>\n",
       "      <td>LaLiga</td>\n",
       "      <td>2017-2018</td>\n",
       "      <td>90000000.0</td>\n",
       "      <td>125000000</td>\n",
       "    </tr>\n",
       "    <tr>\n",
       "      <th>4</th>\n",
       "      <td>Paul Pogba</td>\n",
       "      <td>Midfielder</td>\n",
       "      <td>23</td>\n",
       "      <td>Juventus</td>\n",
       "      <td>Serie A</td>\n",
       "      <td>Man Utd</td>\n",
       "      <td>Premier League</td>\n",
       "      <td>2016-2017</td>\n",
       "      <td>70000000.0</td>\n",
       "      <td>105000000</td>\n",
       "    </tr>\n",
       "    <tr>\n",
       "      <th>5</th>\n",
       "      <td>Gareth Bale</td>\n",
       "      <td>Forward</td>\n",
       "      <td>24</td>\n",
       "      <td>Spurs</td>\n",
       "      <td>Premier League</td>\n",
       "      <td>Real Madrid</td>\n",
       "      <td>LaLiga</td>\n",
       "      <td>2013-2014</td>\n",
       "      <td>65000000.0</td>\n",
       "      <td>101000000</td>\n",
       "    </tr>\n",
       "    <tr>\n",
       "      <th>6</th>\n",
       "      <td>Gonzalo Higuaín</td>\n",
       "      <td>Forward</td>\n",
       "      <td>28</td>\n",
       "      <td>SSC Napoli</td>\n",
       "      <td>Serie A</td>\n",
       "      <td>Juventus</td>\n",
       "      <td>Serie A</td>\n",
       "      <td>2016-2017</td>\n",
       "      <td>65000000.0</td>\n",
       "      <td>90000000</td>\n",
       "    </tr>\n",
       "    <tr>\n",
       "      <th>7</th>\n",
       "      <td>Naby Keïta</td>\n",
       "      <td>Midfielder</td>\n",
       "      <td>23</td>\n",
       "      <td>RB Leipzig</td>\n",
       "      <td>1.Bundesliga</td>\n",
       "      <td>Liverpool</td>\n",
       "      <td>Premier League</td>\n",
       "      <td>2018-2019</td>\n",
       "      <td>65000000.0</td>\n",
       "      <td>60000000</td>\n",
       "    </tr>\n",
       "    <tr>\n",
       "      <th>8</th>\n",
       "      <td>Pierre-Emerick Aubameyang</td>\n",
       "      <td>Forward</td>\n",
       "      <td>28</td>\n",
       "      <td>Bor. Dortmund</td>\n",
       "      <td>1.Bundesliga</td>\n",
       "      <td>Arsenal</td>\n",
       "      <td>Premier League</td>\n",
       "      <td>2017-2018</td>\n",
       "      <td>65000000.0</td>\n",
       "      <td>63750000</td>\n",
       "    </tr>\n",
       "    <tr>\n",
       "      <th>9</th>\n",
       "      <td>Thomas Lemar</td>\n",
       "      <td>Forward</td>\n",
       "      <td>22</td>\n",
       "      <td>Monaco</td>\n",
       "      <td>Ligue 1</td>\n",
       "      <td>Atlético Madrid</td>\n",
       "      <td>LaLiga</td>\n",
       "      <td>2018-2019</td>\n",
       "      <td>65000000.0</td>\n",
       "      <td>70000000</td>\n",
       "    </tr>\n",
       "  </tbody>\n",
       "</table>\n",
       "</div>"
      ],
      "text/plain": [
       "                        Name    Position  Age      Team_from     League_from  \\\n",
       "0              Kylian Mbappé     Forward   19         Monaco         Ligue 1   \n",
       "1          Cristiano Ronaldo     Forward   33    Real Madrid          LaLiga   \n",
       "2                     Neymar     Forward   25   FC Barcelona          LaLiga   \n",
       "3          Philippe Coutinho  Midfielder   25      Liverpool  Premier League   \n",
       "4                 Paul Pogba  Midfielder   23       Juventus         Serie A   \n",
       "5                Gareth Bale     Forward   24          Spurs  Premier League   \n",
       "6            Gonzalo Higuaín     Forward   28     SSC Napoli         Serie A   \n",
       "7                 Naby Keïta  Midfielder   23     RB Leipzig    1.Bundesliga   \n",
       "8  Pierre-Emerick Aubameyang     Forward   28  Bor. Dortmund    1.Bundesliga   \n",
       "9               Thomas Lemar     Forward   22         Monaco         Ligue 1   \n",
       "\n",
       "           Team_to       League_to     Season  Market_value  Transfer_fee  \n",
       "0         Paris SG         Ligue 1  2018-2019   120000000.0     135000000  \n",
       "1         Juventus         Serie A  2018-2019   100000000.0     117000000  \n",
       "2         Paris SG         Ligue 1  2017-2018   100000000.0     222000000  \n",
       "3     FC Barcelona          LaLiga  2017-2018    90000000.0     125000000  \n",
       "4          Man Utd  Premier League  2016-2017    70000000.0     105000000  \n",
       "5      Real Madrid          LaLiga  2013-2014    65000000.0     101000000  \n",
       "6         Juventus         Serie A  2016-2017    65000000.0      90000000  \n",
       "7        Liverpool  Premier League  2018-2019    65000000.0      60000000  \n",
       "8          Arsenal  Premier League  2017-2018    65000000.0      63750000  \n",
       "9  Atlético Madrid          LaLiga  2018-2019    65000000.0      70000000  "
      ]
     },
     "execution_count": 115,
     "metadata": {},
     "output_type": "execute_result"
    }
   ],
   "source": [
    "# Top 10 players with highest Market Values\n",
    "data_top5_leagues.sort_values('Market_value',ascending=False)[0:10].reset_index(drop=True)"
   ]
  },
  {
   "cell_type": "code",
   "execution_count": 117,
   "id": "c7394c72",
   "metadata": {},
   "outputs": [
    {
     "data": {
      "text/html": [
       "<div>\n",
       "<style scoped>\n",
       "    .dataframe tbody tr th:only-of-type {\n",
       "        vertical-align: middle;\n",
       "    }\n",
       "\n",
       "    .dataframe tbody tr th {\n",
       "        vertical-align: top;\n",
       "    }\n",
       "\n",
       "    .dataframe thead th {\n",
       "        text-align: right;\n",
       "    }\n",
       "</style>\n",
       "<table border=\"1\" class=\"dataframe\">\n",
       "  <thead>\n",
       "    <tr style=\"text-align: right;\">\n",
       "      <th></th>\n",
       "      <th>Name</th>\n",
       "      <th>Position</th>\n",
       "      <th>Age</th>\n",
       "      <th>Team_from</th>\n",
       "      <th>League_from</th>\n",
       "      <th>Team_to</th>\n",
       "      <th>League_to</th>\n",
       "      <th>Season</th>\n",
       "      <th>Market_value</th>\n",
       "      <th>Transfer_fee</th>\n",
       "    </tr>\n",
       "  </thead>\n",
       "  <tbody>\n",
       "    <tr>\n",
       "      <th>0</th>\n",
       "      <td>Philippe Coutinho</td>\n",
       "      <td>Midfielder</td>\n",
       "      <td>25</td>\n",
       "      <td>Liverpool</td>\n",
       "      <td>Premier League</td>\n",
       "      <td>FC Barcelona</td>\n",
       "      <td>LaLiga</td>\n",
       "      <td>2017-2018</td>\n",
       "      <td>90000000.0</td>\n",
       "      <td>125000000</td>\n",
       "    </tr>\n",
       "    <tr>\n",
       "      <th>1</th>\n",
       "      <td>Ousmane Dembélé</td>\n",
       "      <td>Forward</td>\n",
       "      <td>20</td>\n",
       "      <td>Bor. Dortmund</td>\n",
       "      <td>1.Bundesliga</td>\n",
       "      <td>FC Barcelona</td>\n",
       "      <td>LaLiga</td>\n",
       "      <td>2017-2018</td>\n",
       "      <td>33000000.0</td>\n",
       "      <td>115000000</td>\n",
       "    </tr>\n",
       "    <tr>\n",
       "      <th>2</th>\n",
       "      <td>Gareth Bale</td>\n",
       "      <td>Forward</td>\n",
       "      <td>24</td>\n",
       "      <td>Spurs</td>\n",
       "      <td>Premier League</td>\n",
       "      <td>Real Madrid</td>\n",
       "      <td>LaLiga</td>\n",
       "      <td>2013-2014</td>\n",
       "      <td>65000000.0</td>\n",
       "      <td>101000000</td>\n",
       "    </tr>\n",
       "    <tr>\n",
       "      <th>3</th>\n",
       "      <td>Cristiano Ronaldo</td>\n",
       "      <td>Forward</td>\n",
       "      <td>24</td>\n",
       "      <td>Man Utd</td>\n",
       "      <td>Premier League</td>\n",
       "      <td>Real Madrid</td>\n",
       "      <td>LaLiga</td>\n",
       "      <td>2009-2010</td>\n",
       "      <td>60000000.0</td>\n",
       "      <td>94000000</td>\n",
       "    </tr>\n",
       "    <tr>\n",
       "      <th>4</th>\n",
       "      <td>Neymar</td>\n",
       "      <td>Forward</td>\n",
       "      <td>21</td>\n",
       "      <td>Santos FC</td>\n",
       "      <td>Série A</td>\n",
       "      <td>FC Barcelona</td>\n",
       "      <td>LaLiga</td>\n",
       "      <td>2013-2014</td>\n",
       "      <td>50000000.0</td>\n",
       "      <td>88200000</td>\n",
       "    </tr>\n",
       "    <tr>\n",
       "      <th>5</th>\n",
       "      <td>Luis Suárez</td>\n",
       "      <td>Forward</td>\n",
       "      <td>27</td>\n",
       "      <td>Liverpool</td>\n",
       "      <td>Premier League</td>\n",
       "      <td>FC Barcelona</td>\n",
       "      <td>LaLiga</td>\n",
       "      <td>2014-2015</td>\n",
       "      <td>52000000.0</td>\n",
       "      <td>81720000</td>\n",
       "    </tr>\n",
       "    <tr>\n",
       "      <th>6</th>\n",
       "      <td>Zinédine Zidane</td>\n",
       "      <td>Midfielder</td>\n",
       "      <td>29</td>\n",
       "      <td>Juventus</td>\n",
       "      <td>Serie A</td>\n",
       "      <td>Real Madrid</td>\n",
       "      <td>LaLiga</td>\n",
       "      <td>2001-2002</td>\n",
       "      <td>NaN</td>\n",
       "      <td>77500000</td>\n",
       "    </tr>\n",
       "    <tr>\n",
       "      <th>7</th>\n",
       "      <td>James Rodríguez</td>\n",
       "      <td>Midfielder</td>\n",
       "      <td>23</td>\n",
       "      <td>Monaco</td>\n",
       "      <td>Ligue 1</td>\n",
       "      <td>Real Madrid</td>\n",
       "      <td>LaLiga</td>\n",
       "      <td>2014-2015</td>\n",
       "      <td>60000000.0</td>\n",
       "      <td>75000000</td>\n",
       "    </tr>\n",
       "    <tr>\n",
       "      <th>8</th>\n",
       "      <td>Thomas Lemar</td>\n",
       "      <td>Forward</td>\n",
       "      <td>22</td>\n",
       "      <td>Monaco</td>\n",
       "      <td>Ligue 1</td>\n",
       "      <td>Atlético Madrid</td>\n",
       "      <td>LaLiga</td>\n",
       "      <td>2018-2019</td>\n",
       "      <td>65000000.0</td>\n",
       "      <td>70000000</td>\n",
       "    </tr>\n",
       "    <tr>\n",
       "      <th>9</th>\n",
       "      <td>Zlatan Ibrahimovic</td>\n",
       "      <td>Forward</td>\n",
       "      <td>27</td>\n",
       "      <td>Inter</td>\n",
       "      <td>Serie A</td>\n",
       "      <td>FC Barcelona</td>\n",
       "      <td>LaLiga</td>\n",
       "      <td>2009-2010</td>\n",
       "      <td>45000000.0</td>\n",
       "      <td>69500000</td>\n",
       "    </tr>\n",
       "  </tbody>\n",
       "</table>\n",
       "</div>"
      ],
      "text/plain": [
       "                 Name    Position  Age      Team_from     League_from  \\\n",
       "0   Philippe Coutinho  Midfielder   25      Liverpool  Premier League   \n",
       "1     Ousmane Dembélé     Forward   20  Bor. Dortmund    1.Bundesliga   \n",
       "2         Gareth Bale     Forward   24          Spurs  Premier League   \n",
       "3   Cristiano Ronaldo     Forward   24        Man Utd  Premier League   \n",
       "4              Neymar     Forward   21      Santos FC         Série A   \n",
       "5         Luis Suárez     Forward   27      Liverpool  Premier League   \n",
       "6     Zinédine Zidane  Midfielder   29       Juventus         Serie A   \n",
       "7     James Rodríguez  Midfielder   23         Monaco         Ligue 1   \n",
       "8        Thomas Lemar     Forward   22         Monaco         Ligue 1   \n",
       "9  Zlatan Ibrahimovic     Forward   27          Inter         Serie A   \n",
       "\n",
       "           Team_to League_to     Season  Market_value  Transfer_fee  \n",
       "0     FC Barcelona    LaLiga  2017-2018    90000000.0     125000000  \n",
       "1     FC Barcelona    LaLiga  2017-2018    33000000.0     115000000  \n",
       "2      Real Madrid    LaLiga  2013-2014    65000000.0     101000000  \n",
       "3      Real Madrid    LaLiga  2009-2010    60000000.0      94000000  \n",
       "4     FC Barcelona    LaLiga  2013-2014    50000000.0      88200000  \n",
       "5     FC Barcelona    LaLiga  2014-2015    52000000.0      81720000  \n",
       "6      Real Madrid    LaLiga  2001-2002           NaN      77500000  \n",
       "7      Real Madrid    LaLiga  2014-2015    60000000.0      75000000  \n",
       "8  Atlético Madrid    LaLiga  2018-2019    65000000.0      70000000  \n",
       "9     FC Barcelona    LaLiga  2009-2010    45000000.0      69500000  "
      ]
     },
     "execution_count": 117,
     "metadata": {},
     "output_type": "execute_result"
    }
   ],
   "source": [
    "#LaLiga - Top 10 Players(Transfer fees)\n",
    "spain=laliga.sort_values('Transfer_fee',ascending=False)[0:10].reset_index(drop=True)\n",
    "spain"
   ]
  },
  {
   "cell_type": "code",
   "execution_count": 121,
   "id": "57f1d6e9",
   "metadata": {},
   "outputs": [
    {
     "data": {
      "text/plain": [
       "FC Barcelona       5\n",
       "Real Madrid        4\n",
       "Atlético Madrid    1\n",
       "Name: Team_to, dtype: int64"
      ]
     },
     "execution_count": 121,
     "metadata": {},
     "output_type": "execute_result"
    }
   ],
   "source": [
    "spain['Team_to'].value_counts()"
   ]
  },
  {
   "cell_type": "code",
   "execution_count": 124,
   "id": "2dd85d2a",
   "metadata": {},
   "outputs": [
    {
     "data": {
      "text/html": [
       "<div>\n",
       "<style scoped>\n",
       "    .dataframe tbody tr th:only-of-type {\n",
       "        vertical-align: middle;\n",
       "    }\n",
       "\n",
       "    .dataframe tbody tr th {\n",
       "        vertical-align: top;\n",
       "    }\n",
       "\n",
       "    .dataframe thead th {\n",
       "        text-align: right;\n",
       "    }\n",
       "</style>\n",
       "<table border=\"1\" class=\"dataframe\">\n",
       "  <thead>\n",
       "    <tr style=\"text-align: right;\">\n",
       "      <th></th>\n",
       "      <th>Name</th>\n",
       "      <th>Position</th>\n",
       "      <th>Age</th>\n",
       "      <th>Team_from</th>\n",
       "      <th>League_from</th>\n",
       "      <th>Team_to</th>\n",
       "      <th>League_to</th>\n",
       "      <th>Season</th>\n",
       "      <th>Market_value</th>\n",
       "      <th>Transfer_fee</th>\n",
       "    </tr>\n",
       "  </thead>\n",
       "  <tbody>\n",
       "    <tr>\n",
       "      <th>0</th>\n",
       "      <td>Paul Pogba</td>\n",
       "      <td>Midfielder</td>\n",
       "      <td>23</td>\n",
       "      <td>Juventus</td>\n",
       "      <td>Serie A</td>\n",
       "      <td>Man Utd</td>\n",
       "      <td>Premier League</td>\n",
       "      <td>2016-2017</td>\n",
       "      <td>70000000.0</td>\n",
       "      <td>105000000</td>\n",
       "    </tr>\n",
       "    <tr>\n",
       "      <th>1</th>\n",
       "      <td>Romelu Lukaku</td>\n",
       "      <td>Forward</td>\n",
       "      <td>24</td>\n",
       "      <td>Everton</td>\n",
       "      <td>Premier League</td>\n",
       "      <td>Man Utd</td>\n",
       "      <td>Premier League</td>\n",
       "      <td>2017-2018</td>\n",
       "      <td>50000000.0</td>\n",
       "      <td>84700000</td>\n",
       "    </tr>\n",
       "    <tr>\n",
       "      <th>2</th>\n",
       "      <td>Virgil van Dijk</td>\n",
       "      <td>Defender</td>\n",
       "      <td>26</td>\n",
       "      <td>Southampton</td>\n",
       "      <td>Premier League</td>\n",
       "      <td>Liverpool</td>\n",
       "      <td>Premier League</td>\n",
       "      <td>2017-2018</td>\n",
       "      <td>30000000.0</td>\n",
       "      <td>78800000</td>\n",
       "    </tr>\n",
       "    <tr>\n",
       "      <th>3</th>\n",
       "      <td>Kevin De Bruyne</td>\n",
       "      <td>Midfielder</td>\n",
       "      <td>24</td>\n",
       "      <td>VfL Wolfsburg</td>\n",
       "      <td>1.Bundesliga</td>\n",
       "      <td>Man City</td>\n",
       "      <td>Premier League</td>\n",
       "      <td>2015-2016</td>\n",
       "      <td>45000000.0</td>\n",
       "      <td>76000000</td>\n",
       "    </tr>\n",
       "    <tr>\n",
       "      <th>4</th>\n",
       "      <td>Ángel Di María</td>\n",
       "      <td>Forward</td>\n",
       "      <td>26</td>\n",
       "      <td>Real Madrid</td>\n",
       "      <td>LaLiga</td>\n",
       "      <td>Man Utd</td>\n",
       "      <td>Premier League</td>\n",
       "      <td>2014-2015</td>\n",
       "      <td>50000000.0</td>\n",
       "      <td>75000000</td>\n",
       "    </tr>\n",
       "    <tr>\n",
       "      <th>5</th>\n",
       "      <td>Riyad Mahrez</td>\n",
       "      <td>Forward</td>\n",
       "      <td>27</td>\n",
       "      <td>Leicester</td>\n",
       "      <td>Premier League</td>\n",
       "      <td>Man City</td>\n",
       "      <td>Premier League</td>\n",
       "      <td>2018-2019</td>\n",
       "      <td>50000000.0</td>\n",
       "      <td>67800000</td>\n",
       "    </tr>\n",
       "    <tr>\n",
       "      <th>6</th>\n",
       "      <td>Álvaro Morata</td>\n",
       "      <td>Forward</td>\n",
       "      <td>24</td>\n",
       "      <td>Real Madrid</td>\n",
       "      <td>LaLiga</td>\n",
       "      <td>Chelsea</td>\n",
       "      <td>Premier League</td>\n",
       "      <td>2017-2018</td>\n",
       "      <td>40000000.0</td>\n",
       "      <td>66000000</td>\n",
       "    </tr>\n",
       "    <tr>\n",
       "      <th>7</th>\n",
       "      <td>Aymeric Laporte</td>\n",
       "      <td>Defender</td>\n",
       "      <td>23</td>\n",
       "      <td>Athletic Bilbao</td>\n",
       "      <td>LaLiga</td>\n",
       "      <td>Man City</td>\n",
       "      <td>Premier League</td>\n",
       "      <td>2017-2018</td>\n",
       "      <td>25000000.0</td>\n",
       "      <td>65000000</td>\n",
       "    </tr>\n",
       "    <tr>\n",
       "      <th>8</th>\n",
       "      <td>Pierre-Emerick Aubameyang</td>\n",
       "      <td>Forward</td>\n",
       "      <td>28</td>\n",
       "      <td>Bor. Dortmund</td>\n",
       "      <td>1.Bundesliga</td>\n",
       "      <td>Arsenal</td>\n",
       "      <td>Premier League</td>\n",
       "      <td>2017-2018</td>\n",
       "      <td>65000000.0</td>\n",
       "      <td>63750000</td>\n",
       "    </tr>\n",
       "    <tr>\n",
       "      <th>9</th>\n",
       "      <td>Raheem Sterling</td>\n",
       "      <td>Forward</td>\n",
       "      <td>20</td>\n",
       "      <td>Liverpool</td>\n",
       "      <td>Premier League</td>\n",
       "      <td>Man City</td>\n",
       "      <td>Premier League</td>\n",
       "      <td>2015-2016</td>\n",
       "      <td>40000000.0</td>\n",
       "      <td>63700000</td>\n",
       "    </tr>\n",
       "  </tbody>\n",
       "</table>\n",
       "</div>"
      ],
      "text/plain": [
       "                        Name    Position  Age        Team_from  \\\n",
       "0                 Paul Pogba  Midfielder   23         Juventus   \n",
       "1              Romelu Lukaku     Forward   24          Everton   \n",
       "2            Virgil van Dijk    Defender   26      Southampton   \n",
       "3            Kevin De Bruyne  Midfielder   24    VfL Wolfsburg   \n",
       "4             Ángel Di María     Forward   26      Real Madrid   \n",
       "5               Riyad Mahrez     Forward   27        Leicester   \n",
       "6              Álvaro Morata     Forward   24      Real Madrid   \n",
       "7            Aymeric Laporte    Defender   23  Athletic Bilbao   \n",
       "8  Pierre-Emerick Aubameyang     Forward   28    Bor. Dortmund   \n",
       "9            Raheem Sterling     Forward   20        Liverpool   \n",
       "\n",
       "      League_from    Team_to       League_to     Season  Market_value  \\\n",
       "0         Serie A    Man Utd  Premier League  2016-2017    70000000.0   \n",
       "1  Premier League    Man Utd  Premier League  2017-2018    50000000.0   \n",
       "2  Premier League  Liverpool  Premier League  2017-2018    30000000.0   \n",
       "3    1.Bundesliga   Man City  Premier League  2015-2016    45000000.0   \n",
       "4          LaLiga    Man Utd  Premier League  2014-2015    50000000.0   \n",
       "5  Premier League   Man City  Premier League  2018-2019    50000000.0   \n",
       "6          LaLiga    Chelsea  Premier League  2017-2018    40000000.0   \n",
       "7          LaLiga   Man City  Premier League  2017-2018    25000000.0   \n",
       "8    1.Bundesliga    Arsenal  Premier League  2017-2018    65000000.0   \n",
       "9  Premier League   Man City  Premier League  2015-2016    40000000.0   \n",
       "\n",
       "   Transfer_fee  \n",
       "0     105000000  \n",
       "1      84700000  \n",
       "2      78800000  \n",
       "3      76000000  \n",
       "4      75000000  \n",
       "5      67800000  \n",
       "6      66000000  \n",
       "7      65000000  \n",
       "8      63750000  \n",
       "9      63700000  "
      ]
     },
     "execution_count": 124,
     "metadata": {},
     "output_type": "execute_result"
    }
   ],
   "source": [
    "#Premier league-Top 10 Players(Transfer fees)\n",
    "england=premier_league.sort_values('Transfer_fee',ascending=False)[0:10].reset_index(drop=True)\n",
    "england"
   ]
  },
  {
   "cell_type": "code",
   "execution_count": 126,
   "id": "730fba7f",
   "metadata": {},
   "outputs": [
    {
     "data": {
      "text/plain": [
       "Man City     4\n",
       "Man Utd      3\n",
       "Liverpool    1\n",
       "Chelsea      1\n",
       "Arsenal      1\n",
       "Name: Team_to, dtype: int64"
      ]
     },
     "execution_count": 126,
     "metadata": {},
     "output_type": "execute_result"
    }
   ],
   "source": [
    "england['Team_to'].value_counts()"
   ]
  },
  {
   "cell_type": "code",
   "execution_count": 127,
   "id": "700cf812",
   "metadata": {},
   "outputs": [
    {
     "data": {
      "text/html": [
       "<div>\n",
       "<style scoped>\n",
       "    .dataframe tbody tr th:only-of-type {\n",
       "        vertical-align: middle;\n",
       "    }\n",
       "\n",
       "    .dataframe tbody tr th {\n",
       "        vertical-align: top;\n",
       "    }\n",
       "\n",
       "    .dataframe thead th {\n",
       "        text-align: right;\n",
       "    }\n",
       "</style>\n",
       "<table border=\"1\" class=\"dataframe\">\n",
       "  <thead>\n",
       "    <tr style=\"text-align: right;\">\n",
       "      <th></th>\n",
       "      <th>Name</th>\n",
       "      <th>Position</th>\n",
       "      <th>Age</th>\n",
       "      <th>Team_from</th>\n",
       "      <th>League_from</th>\n",
       "      <th>Team_to</th>\n",
       "      <th>League_to</th>\n",
       "      <th>Season</th>\n",
       "      <th>Market_value</th>\n",
       "      <th>Transfer_fee</th>\n",
       "    </tr>\n",
       "  </thead>\n",
       "  <tbody>\n",
       "    <tr>\n",
       "      <th>0</th>\n",
       "      <td>Cristiano Ronaldo</td>\n",
       "      <td>Forward</td>\n",
       "      <td>33</td>\n",
       "      <td>Real Madrid</td>\n",
       "      <td>LaLiga</td>\n",
       "      <td>Juventus</td>\n",
       "      <td>Serie A</td>\n",
       "      <td>2018-2019</td>\n",
       "      <td>100000000.0</td>\n",
       "      <td>117000000</td>\n",
       "    </tr>\n",
       "    <tr>\n",
       "      <th>1</th>\n",
       "      <td>Gonzalo Higuaín</td>\n",
       "      <td>Forward</td>\n",
       "      <td>28</td>\n",
       "      <td>SSC Napoli</td>\n",
       "      <td>Serie A</td>\n",
       "      <td>Juventus</td>\n",
       "      <td>Serie A</td>\n",
       "      <td>2016-2017</td>\n",
       "      <td>65000000.0</td>\n",
       "      <td>90000000</td>\n",
       "    </tr>\n",
       "    <tr>\n",
       "      <th>2</th>\n",
       "      <td>Hernán Crespo</td>\n",
       "      <td>Forward</td>\n",
       "      <td>25</td>\n",
       "      <td>Parma</td>\n",
       "      <td>Serie A</td>\n",
       "      <td>Lazio</td>\n",
       "      <td>Serie A</td>\n",
       "      <td>2000-2001</td>\n",
       "      <td>NaN</td>\n",
       "      <td>56810000</td>\n",
       "    </tr>\n",
       "    <tr>\n",
       "      <th>3</th>\n",
       "      <td>Gianluigi Buffon</td>\n",
       "      <td>Goalkeeper</td>\n",
       "      <td>23</td>\n",
       "      <td>Parma</td>\n",
       "      <td>Serie A</td>\n",
       "      <td>Juventus</td>\n",
       "      <td>Serie A</td>\n",
       "      <td>2001-2002</td>\n",
       "      <td>NaN</td>\n",
       "      <td>52880000</td>\n",
       "    </tr>\n",
       "    <tr>\n",
       "      <th>4</th>\n",
       "      <td>Gaizka Mendieta</td>\n",
       "      <td>Midfielder</td>\n",
       "      <td>27</td>\n",
       "      <td>Valencia CF</td>\n",
       "      <td>LaLiga</td>\n",
       "      <td>Lazio</td>\n",
       "      <td>Serie A</td>\n",
       "      <td>2001-2002</td>\n",
       "      <td>NaN</td>\n",
       "      <td>48000000</td>\n",
       "    </tr>\n",
       "    <tr>\n",
       "      <th>5</th>\n",
       "      <td>Rui Costa</td>\n",
       "      <td>Midfielder</td>\n",
       "      <td>29</td>\n",
       "      <td>Fiorentina</td>\n",
       "      <td>Serie A</td>\n",
       "      <td>AC Milan</td>\n",
       "      <td>Serie A</td>\n",
       "      <td>2001-2002</td>\n",
       "      <td>NaN</td>\n",
       "      <td>42000000</td>\n",
       "    </tr>\n",
       "    <tr>\n",
       "      <th>6</th>\n",
       "      <td>Leonardo Bonucci</td>\n",
       "      <td>Defender</td>\n",
       "      <td>30</td>\n",
       "      <td>Juventus</td>\n",
       "      <td>Serie A</td>\n",
       "      <td>AC Milan</td>\n",
       "      <td>Serie A</td>\n",
       "      <td>2017-2018</td>\n",
       "      <td>45000000.0</td>\n",
       "      <td>42000000</td>\n",
       "    </tr>\n",
       "    <tr>\n",
       "      <th>7</th>\n",
       "      <td>Lilian Thuram</td>\n",
       "      <td>Defender</td>\n",
       "      <td>29</td>\n",
       "      <td>Parma</td>\n",
       "      <td>Serie A</td>\n",
       "      <td>Juventus</td>\n",
       "      <td>Serie A</td>\n",
       "      <td>2001-2002</td>\n",
       "      <td>NaN</td>\n",
       "      <td>41500000</td>\n",
       "    </tr>\n",
       "    <tr>\n",
       "      <th>8</th>\n",
       "      <td>João Cancelo</td>\n",
       "      <td>Defender</td>\n",
       "      <td>24</td>\n",
       "      <td>Valencia CF</td>\n",
       "      <td>LaLiga</td>\n",
       "      <td>Juventus</td>\n",
       "      <td>Serie A</td>\n",
       "      <td>2018-2019</td>\n",
       "      <td>35000000.0</td>\n",
       "      <td>40400000</td>\n",
       "    </tr>\n",
       "    <tr>\n",
       "      <th>9</th>\n",
       "      <td>Douglas Costa</td>\n",
       "      <td>Forward</td>\n",
       "      <td>27</td>\n",
       "      <td>Bayern Munich</td>\n",
       "      <td>1.Bundesliga</td>\n",
       "      <td>Juventus</td>\n",
       "      <td>Serie A</td>\n",
       "      <td>2018-2019</td>\n",
       "      <td>55000000.0</td>\n",
       "      <td>40000000</td>\n",
       "    </tr>\n",
       "  </tbody>\n",
       "</table>\n",
       "</div>"
      ],
      "text/plain": [
       "                Name    Position  Age       Team_from   League_from   Team_to  \\\n",
       "0  Cristiano Ronaldo     Forward   33     Real Madrid        LaLiga  Juventus   \n",
       "1    Gonzalo Higuaín     Forward   28      SSC Napoli       Serie A  Juventus   \n",
       "2      Hernán Crespo     Forward   25           Parma       Serie A     Lazio   \n",
       "3   Gianluigi Buffon  Goalkeeper   23           Parma       Serie A  Juventus   \n",
       "4    Gaizka Mendieta  Midfielder   27     Valencia CF        LaLiga     Lazio   \n",
       "5          Rui Costa  Midfielder   29      Fiorentina       Serie A  AC Milan   \n",
       "6   Leonardo Bonucci    Defender   30        Juventus       Serie A  AC Milan   \n",
       "7      Lilian Thuram    Defender   29           Parma       Serie A  Juventus   \n",
       "8       João Cancelo    Defender   24     Valencia CF        LaLiga  Juventus   \n",
       "9      Douglas Costa     Forward   27  Bayern Munich   1.Bundesliga  Juventus   \n",
       "\n",
       "  League_to     Season  Market_value  Transfer_fee  \n",
       "0   Serie A  2018-2019   100000000.0     117000000  \n",
       "1   Serie A  2016-2017    65000000.0      90000000  \n",
       "2   Serie A  2000-2001           NaN      56810000  \n",
       "3   Serie A  2001-2002           NaN      52880000  \n",
       "4   Serie A  2001-2002           NaN      48000000  \n",
       "5   Serie A  2001-2002           NaN      42000000  \n",
       "6   Serie A  2017-2018    45000000.0      42000000  \n",
       "7   Serie A  2001-2002           NaN      41500000  \n",
       "8   Serie A  2018-2019    35000000.0      40400000  \n",
       "9   Serie A  2018-2019    55000000.0      40000000  "
      ]
     },
     "execution_count": 127,
     "metadata": {},
     "output_type": "execute_result"
    }
   ],
   "source": [
    "#Serie A-Top 10 Players(Transfer fees)\n",
    "italy=serieA.sort_values('Transfer_fee',ascending=False)[0:10].reset_index(drop=True)\n",
    "italy"
   ]
  },
  {
   "cell_type": "code",
   "execution_count": 128,
   "id": "77bbad3b",
   "metadata": {},
   "outputs": [
    {
     "data": {
      "text/plain": [
       "Juventus    6\n",
       "Lazio       2\n",
       "AC Milan    2\n",
       "Name: Team_to, dtype: int64"
      ]
     },
     "execution_count": 128,
     "metadata": {},
     "output_type": "execute_result"
    }
   ],
   "source": [
    "italy['Team_to'].value_counts()"
   ]
  },
  {
   "cell_type": "code",
   "execution_count": 129,
   "id": "f5cdfec9",
   "metadata": {},
   "outputs": [
    {
     "data": {
      "text/html": [
       "<div>\n",
       "<style scoped>\n",
       "    .dataframe tbody tr th:only-of-type {\n",
       "        vertical-align: middle;\n",
       "    }\n",
       "\n",
       "    .dataframe tbody tr th {\n",
       "        vertical-align: top;\n",
       "    }\n",
       "\n",
       "    .dataframe thead th {\n",
       "        text-align: right;\n",
       "    }\n",
       "</style>\n",
       "<table border=\"1\" class=\"dataframe\">\n",
       "  <thead>\n",
       "    <tr style=\"text-align: right;\">\n",
       "      <th></th>\n",
       "      <th>Name</th>\n",
       "      <th>Position</th>\n",
       "      <th>Age</th>\n",
       "      <th>Team_from</th>\n",
       "      <th>League_from</th>\n",
       "      <th>Team_to</th>\n",
       "      <th>League_to</th>\n",
       "      <th>Season</th>\n",
       "      <th>Market_value</th>\n",
       "      <th>Transfer_fee</th>\n",
       "    </tr>\n",
       "  </thead>\n",
       "  <tbody>\n",
       "    <tr>\n",
       "      <th>0</th>\n",
       "      <td>Neymar</td>\n",
       "      <td>Forward</td>\n",
       "      <td>25</td>\n",
       "      <td>FC Barcelona</td>\n",
       "      <td>LaLiga</td>\n",
       "      <td>Paris SG</td>\n",
       "      <td>Ligue 1</td>\n",
       "      <td>2017-2018</td>\n",
       "      <td>100000000.0</td>\n",
       "      <td>222000000</td>\n",
       "    </tr>\n",
       "    <tr>\n",
       "      <th>1</th>\n",
       "      <td>Kylian Mbappé</td>\n",
       "      <td>Forward</td>\n",
       "      <td>19</td>\n",
       "      <td>Monaco</td>\n",
       "      <td>Ligue 1</td>\n",
       "      <td>Paris SG</td>\n",
       "      <td>Ligue 1</td>\n",
       "      <td>2018-2019</td>\n",
       "      <td>120000000.0</td>\n",
       "      <td>135000000</td>\n",
       "    </tr>\n",
       "    <tr>\n",
       "      <th>2</th>\n",
       "      <td>Edinson Cavani</td>\n",
       "      <td>Forward</td>\n",
       "      <td>26</td>\n",
       "      <td>SSC Napoli</td>\n",
       "      <td>Serie A</td>\n",
       "      <td>Paris SG</td>\n",
       "      <td>Ligue 1</td>\n",
       "      <td>2013-2014</td>\n",
       "      <td>55000000.0</td>\n",
       "      <td>64500000</td>\n",
       "    </tr>\n",
       "    <tr>\n",
       "      <th>3</th>\n",
       "      <td>Ángel Di María</td>\n",
       "      <td>Forward</td>\n",
       "      <td>27</td>\n",
       "      <td>Man Utd</td>\n",
       "      <td>Premier League</td>\n",
       "      <td>Paris SG</td>\n",
       "      <td>Ligue 1</td>\n",
       "      <td>2015-2016</td>\n",
       "      <td>50000000.0</td>\n",
       "      <td>63000000</td>\n",
       "    </tr>\n",
       "    <tr>\n",
       "      <th>4</th>\n",
       "      <td>David Luiz</td>\n",
       "      <td>Defender</td>\n",
       "      <td>27</td>\n",
       "      <td>Chelsea</td>\n",
       "      <td>Premier League</td>\n",
       "      <td>Paris SG</td>\n",
       "      <td>Ligue 1</td>\n",
       "      <td>2014-2015</td>\n",
       "      <td>26000000.0</td>\n",
       "      <td>49500000</td>\n",
       "    </tr>\n",
       "    <tr>\n",
       "      <th>5</th>\n",
       "      <td>James Rodríguez</td>\n",
       "      <td>Midfielder</td>\n",
       "      <td>21</td>\n",
       "      <td>FC Porto</td>\n",
       "      <td>Liga NOS</td>\n",
       "      <td>Monaco</td>\n",
       "      <td>Ligue 1</td>\n",
       "      <td>2013-2014</td>\n",
       "      <td>23000000.0</td>\n",
       "      <td>45000000</td>\n",
       "    </tr>\n",
       "    <tr>\n",
       "      <th>6</th>\n",
       "      <td>Falcao</td>\n",
       "      <td>Forward</td>\n",
       "      <td>27</td>\n",
       "      <td>Atlético Madrid</td>\n",
       "      <td>LaLiga</td>\n",
       "      <td>Monaco</td>\n",
       "      <td>Ligue 1</td>\n",
       "      <td>2013-2014</td>\n",
       "      <td>60000000.0</td>\n",
       "      <td>43000000</td>\n",
       "    </tr>\n",
       "    <tr>\n",
       "      <th>7</th>\n",
       "      <td>Thiago Silva</td>\n",
       "      <td>Defender</td>\n",
       "      <td>27</td>\n",
       "      <td>AC Milan</td>\n",
       "      <td>Serie A</td>\n",
       "      <td>Paris SG</td>\n",
       "      <td>Ligue 1</td>\n",
       "      <td>2012-2013</td>\n",
       "      <td>38000000.0</td>\n",
       "      <td>42000000</td>\n",
       "    </tr>\n",
       "    <tr>\n",
       "      <th>8</th>\n",
       "      <td>Javier Pastore</td>\n",
       "      <td>Midfielder</td>\n",
       "      <td>22</td>\n",
       "      <td>US Palermo</td>\n",
       "      <td>Serie A</td>\n",
       "      <td>Paris SG</td>\n",
       "      <td>Ligue 1</td>\n",
       "      <td>2011-2012</td>\n",
       "      <td>21000000.0</td>\n",
       "      <td>42000000</td>\n",
       "    </tr>\n",
       "    <tr>\n",
       "      <th>9</th>\n",
       "      <td>Lucas Moura</td>\n",
       "      <td>Forward</td>\n",
       "      <td>20</td>\n",
       "      <td>São Paulo</td>\n",
       "      <td>Série A</td>\n",
       "      <td>Paris SG</td>\n",
       "      <td>Ligue 1</td>\n",
       "      <td>2012-2013</td>\n",
       "      <td>35000000.0</td>\n",
       "      <td>40000000</td>\n",
       "    </tr>\n",
       "  </tbody>\n",
       "</table>\n",
       "</div>"
      ],
      "text/plain": [
       "              Name    Position  Age        Team_from     League_from  \\\n",
       "0           Neymar     Forward   25     FC Barcelona          LaLiga   \n",
       "1    Kylian Mbappé     Forward   19           Monaco         Ligue 1   \n",
       "2   Edinson Cavani     Forward   26       SSC Napoli         Serie A   \n",
       "3   Ángel Di María     Forward   27          Man Utd  Premier League   \n",
       "4       David Luiz    Defender   27          Chelsea  Premier League   \n",
       "5  James Rodríguez  Midfielder   21         FC Porto        Liga NOS   \n",
       "6           Falcao     Forward   27  Atlético Madrid          LaLiga   \n",
       "7     Thiago Silva    Defender   27         AC Milan         Serie A   \n",
       "8   Javier Pastore  Midfielder   22       US Palermo         Serie A   \n",
       "9      Lucas Moura     Forward   20        São Paulo         Série A   \n",
       "\n",
       "    Team_to League_to     Season  Market_value  Transfer_fee  \n",
       "0  Paris SG   Ligue 1  2017-2018   100000000.0     222000000  \n",
       "1  Paris SG   Ligue 1  2018-2019   120000000.0     135000000  \n",
       "2  Paris SG   Ligue 1  2013-2014    55000000.0      64500000  \n",
       "3  Paris SG   Ligue 1  2015-2016    50000000.0      63000000  \n",
       "4  Paris SG   Ligue 1  2014-2015    26000000.0      49500000  \n",
       "5    Monaco   Ligue 1  2013-2014    23000000.0      45000000  \n",
       "6    Monaco   Ligue 1  2013-2014    60000000.0      43000000  \n",
       "7  Paris SG   Ligue 1  2012-2013    38000000.0      42000000  \n",
       "8  Paris SG   Ligue 1  2011-2012    21000000.0      42000000  \n",
       "9  Paris SG   Ligue 1  2012-2013    35000000.0      40000000  "
      ]
     },
     "execution_count": 129,
     "metadata": {},
     "output_type": "execute_result"
    }
   ],
   "source": [
    "#Ligue 1-Top 10 Players(Transfer fees)\n",
    "france=ligue1.sort_values('Transfer_fee',ascending=False)[0:10].reset_index(drop=True)\n",
    "france"
   ]
  },
  {
   "cell_type": "code",
   "execution_count": 130,
   "id": "a990bacc",
   "metadata": {},
   "outputs": [
    {
     "data": {
      "text/plain": [
       "Paris SG    8\n",
       "Monaco      2\n",
       "Name: Team_to, dtype: int64"
      ]
     },
     "execution_count": 130,
     "metadata": {},
     "output_type": "execute_result"
    }
   ],
   "source": [
    "france['Team_to'].value_counts()"
   ]
  },
  {
   "cell_type": "code",
   "execution_count": 131,
   "id": "91c0c14f",
   "metadata": {},
   "outputs": [
    {
     "data": {
      "text/html": [
       "<div>\n",
       "<style scoped>\n",
       "    .dataframe tbody tr th:only-of-type {\n",
       "        vertical-align: middle;\n",
       "    }\n",
       "\n",
       "    .dataframe tbody tr th {\n",
       "        vertical-align: top;\n",
       "    }\n",
       "\n",
       "    .dataframe thead th {\n",
       "        text-align: right;\n",
       "    }\n",
       "</style>\n",
       "<table border=\"1\" class=\"dataframe\">\n",
       "  <thead>\n",
       "    <tr style=\"text-align: right;\">\n",
       "      <th></th>\n",
       "      <th>Name</th>\n",
       "      <th>Position</th>\n",
       "      <th>Age</th>\n",
       "      <th>Team_from</th>\n",
       "      <th>League_from</th>\n",
       "      <th>Team_to</th>\n",
       "      <th>League_to</th>\n",
       "      <th>Season</th>\n",
       "      <th>Market_value</th>\n",
       "      <th>Transfer_fee</th>\n",
       "    </tr>\n",
       "  </thead>\n",
       "  <tbody>\n",
       "    <tr>\n",
       "      <th>0</th>\n",
       "      <td>Julian Draxler</td>\n",
       "      <td>Midfielder</td>\n",
       "      <td>21</td>\n",
       "      <td>FC Schalke 04</td>\n",
       "      <td>1.Bundesliga</td>\n",
       "      <td>VfL Wolfsburg</td>\n",
       "      <td>1.Bundesliga</td>\n",
       "      <td>2015-2016</td>\n",
       "      <td>22000000.0</td>\n",
       "      <td>43000000</td>\n",
       "    </tr>\n",
       "    <tr>\n",
       "      <th>1</th>\n",
       "      <td>Corentin Tolisso</td>\n",
       "      <td>Midfielder</td>\n",
       "      <td>22</td>\n",
       "      <td>Olympique Lyon</td>\n",
       "      <td>Ligue 1</td>\n",
       "      <td>Bayern Munich</td>\n",
       "      <td>1.Bundesliga</td>\n",
       "      <td>2017-2018</td>\n",
       "      <td>22000000.0</td>\n",
       "      <td>41500000</td>\n",
       "    </tr>\n",
       "    <tr>\n",
       "      <th>2</th>\n",
       "      <td>Javi Martínez</td>\n",
       "      <td>Midfielder</td>\n",
       "      <td>24</td>\n",
       "      <td>Athletic Bilbao</td>\n",
       "      <td>LaLiga</td>\n",
       "      <td>Bayern Munich</td>\n",
       "      <td>1.Bundesliga</td>\n",
       "      <td>2012-2013</td>\n",
       "      <td>30000000.0</td>\n",
       "      <td>40000000</td>\n",
       "    </tr>\n",
       "    <tr>\n",
       "      <th>3</th>\n",
       "      <td>Arturo Vidal</td>\n",
       "      <td>Midfielder</td>\n",
       "      <td>28</td>\n",
       "      <td>Juventus</td>\n",
       "      <td>Serie A</td>\n",
       "      <td>Bayern Munich</td>\n",
       "      <td>1.Bundesliga</td>\n",
       "      <td>2015-2016</td>\n",
       "      <td>42000000.0</td>\n",
       "      <td>37500000</td>\n",
       "    </tr>\n",
       "    <tr>\n",
       "      <th>4</th>\n",
       "      <td>Mario Götze</td>\n",
       "      <td>Midfielder</td>\n",
       "      <td>21</td>\n",
       "      <td>Bor. Dortmund</td>\n",
       "      <td>1.Bundesliga</td>\n",
       "      <td>Bayern Munich</td>\n",
       "      <td>1.Bundesliga</td>\n",
       "      <td>2013-2014</td>\n",
       "      <td>45000000.0</td>\n",
       "      <td>37000000</td>\n",
       "    </tr>\n",
       "    <tr>\n",
       "      <th>5</th>\n",
       "      <td>Renato Sanches</td>\n",
       "      <td>Midfielder</td>\n",
       "      <td>18</td>\n",
       "      <td>Benfica</td>\n",
       "      <td>Liga NOS</td>\n",
       "      <td>Bayern Munich</td>\n",
       "      <td>1.Bundesliga</td>\n",
       "      <td>2016-2017</td>\n",
       "      <td>10000000.0</td>\n",
       "      <td>35000000</td>\n",
       "    </tr>\n",
       "    <tr>\n",
       "      <th>6</th>\n",
       "      <td>Mats Hummels</td>\n",
       "      <td>Defender</td>\n",
       "      <td>27</td>\n",
       "      <td>Bor. Dortmund</td>\n",
       "      <td>1.Bundesliga</td>\n",
       "      <td>Bayern Munich</td>\n",
       "      <td>1.Bundesliga</td>\n",
       "      <td>2016-2017</td>\n",
       "      <td>32000000.0</td>\n",
       "      <td>35000000</td>\n",
       "    </tr>\n",
       "    <tr>\n",
       "      <th>7</th>\n",
       "      <td>André Schürrle</td>\n",
       "      <td>Forward</td>\n",
       "      <td>24</td>\n",
       "      <td>Chelsea</td>\n",
       "      <td>Premier League</td>\n",
       "      <td>VfL Wolfsburg</td>\n",
       "      <td>1.Bundesliga</td>\n",
       "      <td>2014-2015</td>\n",
       "      <td>23000000.0</td>\n",
       "      <td>32000000</td>\n",
       "    </tr>\n",
       "    <tr>\n",
       "      <th>8</th>\n",
       "      <td>Mario Gómez</td>\n",
       "      <td>Forward</td>\n",
       "      <td>23</td>\n",
       "      <td>VfB Stuttgart</td>\n",
       "      <td>1.Bundesliga</td>\n",
       "      <td>Bayern Munich</td>\n",
       "      <td>1.Bundesliga</td>\n",
       "      <td>2009-2010</td>\n",
       "      <td>30000000.0</td>\n",
       "      <td>30000000</td>\n",
       "    </tr>\n",
       "    <tr>\n",
       "      <th>9</th>\n",
       "      <td>Franck Ribéry</td>\n",
       "      <td>Forward</td>\n",
       "      <td>24</td>\n",
       "      <td>Marseille</td>\n",
       "      <td>Ligue 1</td>\n",
       "      <td>Bayern Munich</td>\n",
       "      <td>1.Bundesliga</td>\n",
       "      <td>2007-2008</td>\n",
       "      <td>23000000.0</td>\n",
       "      <td>30000000</td>\n",
       "    </tr>\n",
       "  </tbody>\n",
       "</table>\n",
       "</div>"
      ],
      "text/plain": [
       "               Name    Position  Age        Team_from     League_from  \\\n",
       "0    Julian Draxler  Midfielder   21    FC Schalke 04    1.Bundesliga   \n",
       "1  Corentin Tolisso  Midfielder   22   Olympique Lyon         Ligue 1   \n",
       "2     Javi Martínez  Midfielder   24  Athletic Bilbao          LaLiga   \n",
       "3      Arturo Vidal  Midfielder   28         Juventus         Serie A   \n",
       "4       Mario Götze  Midfielder   21    Bor. Dortmund    1.Bundesliga   \n",
       "5    Renato Sanches  Midfielder   18          Benfica        Liga NOS   \n",
       "6      Mats Hummels    Defender   27    Bor. Dortmund    1.Bundesliga   \n",
       "7    André Schürrle     Forward   24          Chelsea  Premier League   \n",
       "8       Mario Gómez     Forward   23    VfB Stuttgart    1.Bundesliga   \n",
       "9     Franck Ribéry     Forward   24        Marseille         Ligue 1   \n",
       "\n",
       "          Team_to     League_to     Season  Market_value  Transfer_fee  \n",
       "0   VfL Wolfsburg  1.Bundesliga  2015-2016    22000000.0      43000000  \n",
       "1  Bayern Munich   1.Bundesliga  2017-2018    22000000.0      41500000  \n",
       "2  Bayern Munich   1.Bundesliga  2012-2013    30000000.0      40000000  \n",
       "3  Bayern Munich   1.Bundesliga  2015-2016    42000000.0      37500000  \n",
       "4  Bayern Munich   1.Bundesliga  2013-2014    45000000.0      37000000  \n",
       "5  Bayern Munich   1.Bundesliga  2016-2017    10000000.0      35000000  \n",
       "6  Bayern Munich   1.Bundesliga  2016-2017    32000000.0      35000000  \n",
       "7   VfL Wolfsburg  1.Bundesliga  2014-2015    23000000.0      32000000  \n",
       "8  Bayern Munich   1.Bundesliga  2009-2010    30000000.0      30000000  \n",
       "9  Bayern Munich   1.Bundesliga  2007-2008    23000000.0      30000000  "
      ]
     },
     "execution_count": 131,
     "metadata": {},
     "output_type": "execute_result"
    }
   ],
   "source": [
    "#1Bundesliga-Top 10 Players(Transfer fees)\n",
    "germany=bundesliga.sort_values('Transfer_fee',ascending=False)[0:10].reset_index(drop=True)\n",
    "germany"
   ]
  },
  {
   "cell_type": "code",
   "execution_count": 133,
   "id": "fc548a02",
   "metadata": {},
   "outputs": [
    {
     "data": {
      "text/plain": [
       "Bayern Munich     8\n",
       "VfL Wolfsburg     2\n",
       "Name: Team_to, dtype: int64"
      ]
     },
     "execution_count": 133,
     "metadata": {},
     "output_type": "execute_result"
    }
   ],
   "source": [
    "germany['Team_to'].value_counts()"
   ]
  },
  {
   "cell_type": "code",
   "execution_count": null,
   "id": "9711a1db",
   "metadata": {},
   "outputs": [],
   "source": []
  }
 ],
 "metadata": {
  "kernelspec": {
   "display_name": "Python 3",
   "language": "python",
   "name": "python3"
  },
  "language_info": {
   "codemirror_mode": {
    "name": "ipython",
    "version": 3
   },
   "file_extension": ".py",
   "mimetype": "text/x-python",
   "name": "python",
   "nbconvert_exporter": "python",
   "pygments_lexer": "ipython3",
   "version": "3.8.8"
  }
 },
 "nbformat": 4,
 "nbformat_minor": 5
}
